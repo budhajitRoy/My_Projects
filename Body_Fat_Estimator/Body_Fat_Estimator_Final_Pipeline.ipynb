{
 "cells": [
  {
   "cell_type": "code",
   "execution_count": 1,
   "id": "5906f291",
   "metadata": {},
   "outputs": [],
   "source": [
    "# import libraries\n",
    "import pandas as pd\n",
    "\n",
    "# ignore warnings\n",
    "import warnings\n",
    "warnings.filterwarnings('ignore')\n",
    "\n",
    "# Random Forest\n",
    "from sklearn.ensemble import RandomForestRegressor\n",
    "\n",
    "# from sklearn \n",
    "from sklearn.model_selection import train_test_split\n",
    "# to determine the p-values with anova\n",
    "from sklearn.feature_selection import f_regression, SelectKBest\n",
    "\n",
    "# model evaluation\n",
    "from sklearn.metrics import mean_squared_error\n",
    "\n",
    "# for pipleline\n",
    "from sklearn.pipeline import make_pipeline\n",
    "\n",
    "# for removing correled features\n",
    "from feature_engine.selection import DropCorrelatedFeatures\n",
    "\n",
    "# for model persistance\n",
    "import pickle"
   ]
  },
  {
   "cell_type": "code",
   "execution_count": 2,
   "id": "5ee62dbb",
   "metadata": {},
   "outputs": [
    {
     "data": {
      "text/html": [
       "<div>\n",
       "<style scoped>\n",
       "    .dataframe tbody tr th:only-of-type {\n",
       "        vertical-align: middle;\n",
       "    }\n",
       "\n",
       "    .dataframe tbody tr th {\n",
       "        vertical-align: top;\n",
       "    }\n",
       "\n",
       "    .dataframe thead th {\n",
       "        text-align: right;\n",
       "    }\n",
       "</style>\n",
       "<table border=\"1\" class=\"dataframe\">\n",
       "  <thead>\n",
       "    <tr style=\"text-align: right;\">\n",
       "      <th></th>\n",
       "      <th>Density</th>\n",
       "      <th>BodyFat</th>\n",
       "      <th>Age</th>\n",
       "      <th>Weight</th>\n",
       "      <th>Height</th>\n",
       "      <th>Neck</th>\n",
       "      <th>Chest</th>\n",
       "      <th>Abdomen</th>\n",
       "      <th>Hip</th>\n",
       "      <th>Thigh</th>\n",
       "      <th>Knee</th>\n",
       "      <th>Ankle</th>\n",
       "      <th>Biceps</th>\n",
       "      <th>Forearm</th>\n",
       "      <th>Wrist</th>\n",
       "    </tr>\n",
       "  </thead>\n",
       "  <tbody>\n",
       "    <tr>\n",
       "      <th>0</th>\n",
       "      <td>1.0708</td>\n",
       "      <td>12.3</td>\n",
       "      <td>23</td>\n",
       "      <td>154.25</td>\n",
       "      <td>67.75</td>\n",
       "      <td>36.2</td>\n",
       "      <td>93.1</td>\n",
       "      <td>85.2</td>\n",
       "      <td>94.5</td>\n",
       "      <td>59.0</td>\n",
       "      <td>37.3</td>\n",
       "      <td>21.9</td>\n",
       "      <td>32.0</td>\n",
       "      <td>27.4</td>\n",
       "      <td>17.1</td>\n",
       "    </tr>\n",
       "    <tr>\n",
       "      <th>1</th>\n",
       "      <td>1.0853</td>\n",
       "      <td>6.1</td>\n",
       "      <td>22</td>\n",
       "      <td>173.25</td>\n",
       "      <td>72.25</td>\n",
       "      <td>38.5</td>\n",
       "      <td>93.6</td>\n",
       "      <td>83.0</td>\n",
       "      <td>98.7</td>\n",
       "      <td>58.7</td>\n",
       "      <td>37.3</td>\n",
       "      <td>23.4</td>\n",
       "      <td>30.5</td>\n",
       "      <td>28.9</td>\n",
       "      <td>18.2</td>\n",
       "    </tr>\n",
       "    <tr>\n",
       "      <th>2</th>\n",
       "      <td>1.0414</td>\n",
       "      <td>25.3</td>\n",
       "      <td>22</td>\n",
       "      <td>154.00</td>\n",
       "      <td>66.25</td>\n",
       "      <td>34.0</td>\n",
       "      <td>95.8</td>\n",
       "      <td>87.9</td>\n",
       "      <td>99.2</td>\n",
       "      <td>59.6</td>\n",
       "      <td>38.9</td>\n",
       "      <td>24.0</td>\n",
       "      <td>28.8</td>\n",
       "      <td>25.2</td>\n",
       "      <td>16.6</td>\n",
       "    </tr>\n",
       "    <tr>\n",
       "      <th>3</th>\n",
       "      <td>1.0751</td>\n",
       "      <td>10.4</td>\n",
       "      <td>26</td>\n",
       "      <td>184.75</td>\n",
       "      <td>72.25</td>\n",
       "      <td>37.4</td>\n",
       "      <td>101.8</td>\n",
       "      <td>86.4</td>\n",
       "      <td>101.2</td>\n",
       "      <td>60.1</td>\n",
       "      <td>37.3</td>\n",
       "      <td>22.8</td>\n",
       "      <td>32.4</td>\n",
       "      <td>29.4</td>\n",
       "      <td>18.2</td>\n",
       "    </tr>\n",
       "    <tr>\n",
       "      <th>4</th>\n",
       "      <td>1.0340</td>\n",
       "      <td>28.7</td>\n",
       "      <td>24</td>\n",
       "      <td>184.25</td>\n",
       "      <td>71.25</td>\n",
       "      <td>34.4</td>\n",
       "      <td>97.3</td>\n",
       "      <td>100.0</td>\n",
       "      <td>101.9</td>\n",
       "      <td>63.2</td>\n",
       "      <td>42.2</td>\n",
       "      <td>24.0</td>\n",
       "      <td>32.2</td>\n",
       "      <td>27.7</td>\n",
       "      <td>17.7</td>\n",
       "    </tr>\n",
       "  </tbody>\n",
       "</table>\n",
       "</div>"
      ],
      "text/plain": [
       "   Density  BodyFat  Age  Weight  Height  Neck  Chest  Abdomen    Hip  Thigh  \\\n",
       "0   1.0708     12.3   23  154.25   67.75  36.2   93.1     85.2   94.5   59.0   \n",
       "1   1.0853      6.1   22  173.25   72.25  38.5   93.6     83.0   98.7   58.7   \n",
       "2   1.0414     25.3   22  154.00   66.25  34.0   95.8     87.9   99.2   59.6   \n",
       "3   1.0751     10.4   26  184.75   72.25  37.4  101.8     86.4  101.2   60.1   \n",
       "4   1.0340     28.7   24  184.25   71.25  34.4   97.3    100.0  101.9   63.2   \n",
       "\n",
       "   Knee  Ankle  Biceps  Forearm  Wrist  \n",
       "0  37.3   21.9    32.0     27.4   17.1  \n",
       "1  37.3   23.4    30.5     28.9   18.2  \n",
       "2  38.9   24.0    28.8     25.2   16.6  \n",
       "3  37.3   22.8    32.4     29.4   18.2  \n",
       "4  42.2   24.0    32.2     27.7   17.7  "
      ]
     },
     "execution_count": 2,
     "metadata": {},
     "output_type": "execute_result"
    }
   ],
   "source": [
    "# load dataset\n",
    "# dataset reference : https://www.kaggle.com/datasets/fedesoriano/body-fat-prediction-dataset\n",
    "\n",
    "df = pd.read_csv('bodyfat.csv')\n",
    "df.head()"
   ]
  },
  {
   "cell_type": "code",
   "execution_count": 3,
   "id": "56efdd38",
   "metadata": {},
   "outputs": [
    {
     "name": "stdout",
     "output_type": "stream",
     "text": [
      "<class 'pandas.core.frame.DataFrame'>\n",
      "RangeIndex: 252 entries, 0 to 251\n",
      "Data columns (total 15 columns):\n",
      " #   Column   Non-Null Count  Dtype  \n",
      "---  ------   --------------  -----  \n",
      " 0   Density  252 non-null    float64\n",
      " 1   BodyFat  252 non-null    float64\n",
      " 2   Age      252 non-null    int64  \n",
      " 3   Weight   252 non-null    float64\n",
      " 4   Height   252 non-null    float64\n",
      " 5   Neck     252 non-null    float64\n",
      " 6   Chest    252 non-null    float64\n",
      " 7   Abdomen  252 non-null    float64\n",
      " 8   Hip      252 non-null    float64\n",
      " 9   Thigh    252 non-null    float64\n",
      " 10  Knee     252 non-null    float64\n",
      " 11  Ankle    252 non-null    float64\n",
      " 12  Biceps   252 non-null    float64\n",
      " 13  Forearm  252 non-null    float64\n",
      " 14  Wrist    252 non-null    float64\n",
      "dtypes: float64(14), int64(1)\n",
      "memory usage: 29.7 KB\n"
     ]
    }
   ],
   "source": [
    "df.info()"
   ]
  },
  {
   "cell_type": "code",
   "execution_count": 3,
   "id": "3ce58369",
   "metadata": {},
   "outputs": [
    {
     "data": {
      "text/plain": [
       "((176, 14), (76, 14))"
      ]
     },
     "execution_count": 3,
     "metadata": {},
     "output_type": "execute_result"
    }
   ],
   "source": [
    "# first lets split our training and test data set\n",
    "\n",
    "X_train, X_test, y_train, y_test = train_test_split(df.drop(['BodyFat'], axis = 1),\n",
    "                                                   df['BodyFat'],\n",
    "                                                   test_size=0.3,\n",
    "                                                   random_state=39)\n",
    "\n",
    "X_train.shape, X_test.shape"
   ]
  },
  {
   "cell_type": "markdown",
   "id": "e47b8798",
   "metadata": {},
   "source": [
    "## Removing Correlated Features"
   ]
  },
  {
   "cell_type": "code",
   "execution_count": 5,
   "id": "ccdb7df4",
   "metadata": {},
   "outputs": [],
   "source": [
    "from feature_engine.selection import DropCorrelatedFeatures"
   ]
  },
  {
   "cell_type": "code",
   "execution_count": 6,
   "id": "7e808601",
   "metadata": {},
   "outputs": [],
   "source": [
    "# set up the selector\n",
    "# remove correlated features having pearson correlation greater than 0.8\n",
    "\n",
    "sel = DropCorrelatedFeatures(threshold=0.8,\n",
    "                             method='pearson',\n",
    "                             missing_values='ignore'\n",
    "                            )"
   ]
  },
  {
   "cell_type": "code",
   "execution_count": 7,
   "id": "7b1fb93c",
   "metadata": {},
   "outputs": [
    {
     "data": {
      "text/plain": [
       "DropCorrelatedFeatures(variables=['Density', 'Age', 'Weight', 'Height', 'Neck',\n",
       "                                  'Chest', 'Abdomen', 'Hip', 'Thigh', 'Knee',\n",
       "                                  'Ankle', 'Biceps', 'Forearm', 'Wrist'])"
      ]
     },
     "execution_count": 7,
     "metadata": {},
     "output_type": "execute_result"
    }
   ],
   "source": [
    "sel.fit(X_train)"
   ]
  },
  {
   "cell_type": "code",
   "execution_count": 8,
   "id": "626fd125",
   "metadata": {},
   "outputs": [
    {
     "data": {
      "text/plain": [
       "((176, 7), (76, 7))"
      ]
     },
     "execution_count": 8,
     "metadata": {},
     "output_type": "execute_result"
    }
   ],
   "source": [
    "# drop the correlated features\n",
    "train = sel.transform(pd.DataFrame(X_train))\n",
    "test = sel.transform(pd.DataFrame(X_test))\n",
    "\n",
    "train.shape, test.shape"
   ]
  },
  {
   "cell_type": "markdown",
   "id": "51e25b29",
   "metadata": {},
   "source": [
    "## Select only the best 5 features"
   ]
  },
  {
   "cell_type": "code",
   "execution_count": 9,
   "id": "5609957d",
   "metadata": {},
   "outputs": [],
   "source": [
    "# select the top 5 features\n",
    "sel_ = SelectKBest(f_regression, k=5).fit(X_train, y_train)"
   ]
  },
  {
   "cell_type": "code",
   "execution_count": 10,
   "id": "01381b1c",
   "metadata": {},
   "outputs": [
    {
     "data": {
      "text/plain": [
       "Index(['Density', 'Weight', 'Chest', 'Abdomen', 'Hip'], dtype='object')"
      ]
     },
     "execution_count": 10,
     "metadata": {},
     "output_type": "execute_result"
    }
   ],
   "source": [
    "# display selected feature names\n",
    "X_train.columns[sel_.get_support()]"
   ]
  },
  {
   "cell_type": "code",
   "execution_count": 11,
   "id": "fdad648d",
   "metadata": {},
   "outputs": [],
   "source": [
    "# removing unwanted features from the Datasets\n",
    "X_train = sel_.transform(X_train)\n",
    "X_test = sel_.transform(X_test)"
   ]
  },
  {
   "cell_type": "markdown",
   "id": "2aa01c05",
   "metadata": {},
   "source": [
    "## Random Forest Regressor"
   ]
  },
  {
   "cell_type": "code",
   "execution_count": 12,
   "id": "9929b672",
   "metadata": {},
   "outputs": [
    {
     "data": {
      "text/plain": [
       "RandomForestRegressor(max_depth=2, n_estimators=10, n_jobs=2, random_state=39)"
      ]
     },
     "execution_count": 12,
     "metadata": {},
     "output_type": "execute_result"
    }
   ],
   "source": [
    "# set up Random Forest Regressor\n",
    "clf = RandomForestRegressor(n_estimators=10,\n",
    "                                max_depth=2,\n",
    "                                n_jobs=2,\n",
    "                                random_state=39)\n",
    "# fit the model\n",
    "clf.fit(X_train, y_train)"
   ]
  },
  {
   "cell_type": "markdown",
   "id": "cd6eae7e",
   "metadata": {},
   "source": [
    "## Model Evauation"
   ]
  },
  {
   "cell_type": "code",
   "execution_count": 13,
   "id": "769b2af3",
   "metadata": {},
   "outputs": [],
   "source": [
    "# predict and evaluate model performance\n",
    "train_preds = clf.predict(X_train)\n",
    "test_preds = clf.predict(X_test)"
   ]
  },
  {
   "cell_type": "code",
   "execution_count": 14,
   "id": "a171bdf0",
   "metadata": {},
   "outputs": [
    {
     "name": "stdout",
     "output_type": "stream",
     "text": [
      "Training data score : 5.670209421147411\n",
      "Test data score : 4.792522718971122\n"
     ]
    }
   ],
   "source": [
    "# evaluate model performance\n",
    "print('Training data score : {}'.format(mean_squared_error(y_train, train_preds)))\n",
    "print('Test data score : {}'.format(mean_squared_error(y_test, test_preds)))"
   ]
  },
  {
   "cell_type": "code",
   "execution_count": 16,
   "id": "2231414e",
   "metadata": {},
   "outputs": [],
   "source": [
    "# save the model\n",
    "pickle.dump(clf, open('body_fat_estimator.pkl', 'wb'))"
   ]
  },
  {
   "cell_type": "code",
   "execution_count": 17,
   "id": "f0eaff41",
   "metadata": {},
   "outputs": [
    {
     "data": {
      "text/plain": [
       "array([16.00131879, 25.21436805, 32.08398454, 32.08398454, 22.6558852 ,\n",
       "       22.6558852 , 22.6558852 , 22.6558852 , 14.30326978, 22.6558852 ,\n",
       "       14.30326978, 22.6558852 , 23.49722675, 14.30326978, 14.30326978,\n",
       "       20.09862916, 23.49722675,  6.87336464, 10.47299581, 16.86804915,\n",
       "       14.30326978, 22.6558852 , 22.6558852 , 32.08398454, 15.08336244,\n",
       "        6.87336464, 16.00131879, 24.43114209, 14.30326978, 22.6558852 ,\n",
       "       22.6558852 , 15.08336244, 22.6558852 , 22.6558852 , 22.6558852 ,\n",
       "       25.21436805, 22.6558852 ,  6.87336464, 14.30326978, 23.49722675,\n",
       "        6.87336464,  6.87336464,  6.87336464,  8.88782435, 14.30326978,\n",
       "       22.6558852 , 22.6558852 , 14.30326978,  6.87336464, 10.47299581,\n",
       "       25.21436805,  8.88782435, 22.6558852 , 24.43114209, 32.08398454,\n",
       "       20.09862916, 23.49722675, 32.08398454, 16.86804915, 14.30326978,\n",
       "       32.08398454, 14.30326978, 14.30326978,  6.87336464,  6.87336464,\n",
       "       23.49722675, 32.08398454, 32.08398454, 20.09862916, 14.30326978,\n",
       "       14.30326978, 14.30326978, 23.49722675,  6.87336464, 15.08336244,\n",
       "       17.62724834])"
      ]
     },
     "execution_count": 17,
     "metadata": {},
     "output_type": "execute_result"
    }
   ],
   "source": [
    "# load and test\n",
    "pickled_model = pickle.load(open('body_fat_estimator.pkl', 'rb'))\n",
    "pickled_model.predict(X_test)"
   ]
  },
  {
   "cell_type": "markdown",
   "id": "6cf8a3a2",
   "metadata": {},
   "source": [
    "### Test with an unseen data"
   ]
  },
  {
   "cell_type": "markdown",
   "id": "4bc52bc6",
   "metadata": {},
   "source": [
    "- The selected columns to be used are \n",
    "['Density', 'Weight', 'Chest', 'Abdomen', 'Hip']"
   ]
  },
  {
   "cell_type": "code",
   "execution_count": 24,
   "id": "882cafd3",
   "metadata": {},
   "outputs": [
    {
     "data": {
      "text/plain": [
       "array([  1.0372, 219.15  , 117.6   , 113.8   , 111.8   ])"
      ]
     },
     "execution_count": 24,
     "metadata": {},
     "output_type": "execute_result"
    }
   ],
   "source": [
    "test_value = X_test[1]\n",
    "test_value"
   ]
  },
  {
   "cell_type": "code",
   "execution_count": 26,
   "id": "d5c8a4bf",
   "metadata": {},
   "outputs": [
    {
     "data": {
      "text/plain": [
       "27.3"
      ]
     },
     "execution_count": 26,
     "metadata": {},
     "output_type": "execute_result"
    }
   ],
   "source": [
    "y_test.iloc[1]"
   ]
  },
  {
   "cell_type": "code",
   "execution_count": 27,
   "id": "205c0652",
   "metadata": {},
   "outputs": [
    {
     "data": {
      "text/plain": [
       "array([25.21436805])"
      ]
     },
     "execution_count": 27,
     "metadata": {},
     "output_type": "execute_result"
    }
   ],
   "source": [
    "# predict using the test value\n",
    "pickled_model.predict([test_value])"
   ]
  }
 ],
 "metadata": {
  "kernelspec": {
   "display_name": "Python 3 (ipykernel)",
   "language": "python",
   "name": "python3"
  },
  "language_info": {
   "codemirror_mode": {
    "name": "ipython",
    "version": 3
   },
   "file_extension": ".py",
   "mimetype": "text/x-python",
   "name": "python",
   "nbconvert_exporter": "python",
   "pygments_lexer": "ipython3",
   "version": "3.9.5"
  }
 },
 "nbformat": 4,
 "nbformat_minor": 5
}
