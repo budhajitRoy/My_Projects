{
 "cells": [
  {
   "cell_type": "code",
   "execution_count": 1,
   "id": "47a42bd7",
   "metadata": {},
   "outputs": [
    {
     "name": "stdout",
     "output_type": "stream",
     "text": [
      "100% [..........................................................................] 2010492 / 2010492"
     ]
    },
    {
     "data": {
      "text/plain": [
       "'pollution.csv'"
      ]
     },
     "execution_count": 1,
     "metadata": {},
     "output_type": "execute_result"
    }
   ],
   "source": [
    "# set data path and download data\n",
    "\n",
    "import wget\n",
    "data_url = 'https://raw.githubusercontent.com/jbrownlee/Datasets/master/pollution.csv'\n",
    "wget.download(data_url)"
   ]
  },
  {
   "cell_type": "markdown",
   "id": "edb1a2fe",
   "metadata": {},
   "source": [
    "- [Data Source](https://archive.ics.uci.edu/ml/datasets/Beijing+PM2.5+Data#)"
   ]
  },
  {
   "cell_type": "code",
   "execution_count": 1,
   "id": "fbe45b35",
   "metadata": {},
   "outputs": [
    {
     "name": "stdout",
     "output_type": "stream",
     "text": [
      "['No', 'year', 'month', 'day', 'hour', 'pm2.5', 'DEWP', 'TEMP', 'PRES', 'cbwd', 'Iws', 'Is', 'Ir']\n",
      "['1', '2010', '1', '1', '0', 'NA', '-21', '-11', '1021', 'NW', '1.79', '0', '0']\n",
      "['2', '2010', '1', '1', '1', 'NA', '-21', '-12', '1020', 'NW', '4.92', '0', '0']\n",
      "['3', '2010', '1', '1', '2', 'NA', '-21', '-11', '1019', 'NW', '6.71', '0', '0']\n",
      "['4', '2010', '1', '1', '3', 'NA', '-21', '-14', '1019', 'NW', '9.84', '0', '0']\n"
     ]
    }
   ],
   "source": [
    "# read first few lines of data\n",
    "import csv\n",
    "data_path = 'pollution.csv'\n",
    "\n",
    "count = 0\n",
    "with open(data_path, 'r') as file:\n",
    "    data = csv.reader(file)\n",
    "    \n",
    "    for row in data:\n",
    "        if count >= 5 :\n",
    "            break\n",
    "        else:\n",
    "            print(row)\n",
    "            count+=1\n",
    "    "
   ]
  },
  {
   "cell_type": "code",
   "execution_count": 2,
   "id": "f63f6c35",
   "metadata": {},
   "outputs": [
    {
     "data": {
      "text/html": [
       "<div>\n",
       "<style scoped>\n",
       "    .dataframe tbody tr th:only-of-type {\n",
       "        vertical-align: middle;\n",
       "    }\n",
       "\n",
       "    .dataframe tbody tr th {\n",
       "        vertical-align: top;\n",
       "    }\n",
       "\n",
       "    .dataframe thead th {\n",
       "        text-align: right;\n",
       "    }\n",
       "</style>\n",
       "<table border=\"1\" class=\"dataframe\">\n",
       "  <thead>\n",
       "    <tr style=\"text-align: right;\">\n",
       "      <th></th>\n",
       "      <th>No</th>\n",
       "      <th>year</th>\n",
       "      <th>month</th>\n",
       "      <th>day</th>\n",
       "      <th>hour</th>\n",
       "      <th>pm2.5</th>\n",
       "      <th>DEWP</th>\n",
       "      <th>TEMP</th>\n",
       "      <th>PRES</th>\n",
       "      <th>cbwd</th>\n",
       "      <th>Iws</th>\n",
       "      <th>Is</th>\n",
       "      <th>Ir</th>\n",
       "    </tr>\n",
       "  </thead>\n",
       "  <tbody>\n",
       "    <tr>\n",
       "      <th>0</th>\n",
       "      <td>1</td>\n",
       "      <td>2010</td>\n",
       "      <td>1</td>\n",
       "      <td>1</td>\n",
       "      <td>0</td>\n",
       "      <td>NaN</td>\n",
       "      <td>-21</td>\n",
       "      <td>-11.0</td>\n",
       "      <td>1021.0</td>\n",
       "      <td>NW</td>\n",
       "      <td>1.79</td>\n",
       "      <td>0</td>\n",
       "      <td>0</td>\n",
       "    </tr>\n",
       "    <tr>\n",
       "      <th>1</th>\n",
       "      <td>2</td>\n",
       "      <td>2010</td>\n",
       "      <td>1</td>\n",
       "      <td>1</td>\n",
       "      <td>1</td>\n",
       "      <td>NaN</td>\n",
       "      <td>-21</td>\n",
       "      <td>-12.0</td>\n",
       "      <td>1020.0</td>\n",
       "      <td>NW</td>\n",
       "      <td>4.92</td>\n",
       "      <td>0</td>\n",
       "      <td>0</td>\n",
       "    </tr>\n",
       "    <tr>\n",
       "      <th>2</th>\n",
       "      <td>3</td>\n",
       "      <td>2010</td>\n",
       "      <td>1</td>\n",
       "      <td>1</td>\n",
       "      <td>2</td>\n",
       "      <td>NaN</td>\n",
       "      <td>-21</td>\n",
       "      <td>-11.0</td>\n",
       "      <td>1019.0</td>\n",
       "      <td>NW</td>\n",
       "      <td>6.71</td>\n",
       "      <td>0</td>\n",
       "      <td>0</td>\n",
       "    </tr>\n",
       "    <tr>\n",
       "      <th>3</th>\n",
       "      <td>4</td>\n",
       "      <td>2010</td>\n",
       "      <td>1</td>\n",
       "      <td>1</td>\n",
       "      <td>3</td>\n",
       "      <td>NaN</td>\n",
       "      <td>-21</td>\n",
       "      <td>-14.0</td>\n",
       "      <td>1019.0</td>\n",
       "      <td>NW</td>\n",
       "      <td>9.84</td>\n",
       "      <td>0</td>\n",
       "      <td>0</td>\n",
       "    </tr>\n",
       "    <tr>\n",
       "      <th>4</th>\n",
       "      <td>5</td>\n",
       "      <td>2010</td>\n",
       "      <td>1</td>\n",
       "      <td>1</td>\n",
       "      <td>4</td>\n",
       "      <td>NaN</td>\n",
       "      <td>-20</td>\n",
       "      <td>-12.0</td>\n",
       "      <td>1018.0</td>\n",
       "      <td>NW</td>\n",
       "      <td>12.97</td>\n",
       "      <td>0</td>\n",
       "      <td>0</td>\n",
       "    </tr>\n",
       "  </tbody>\n",
       "</table>\n",
       "</div>"
      ],
      "text/plain": [
       "   No  year  month  day  hour  pm2.5  DEWP  TEMP    PRES cbwd    Iws  Is  Ir\n",
       "0   1  2010      1    1     0    NaN   -21 -11.0  1021.0   NW   1.79   0   0\n",
       "1   2  2010      1    1     1    NaN   -21 -12.0  1020.0   NW   4.92   0   0\n",
       "2   3  2010      1    1     2    NaN   -21 -11.0  1019.0   NW   6.71   0   0\n",
       "3   4  2010      1    1     3    NaN   -21 -14.0  1019.0   NW   9.84   0   0\n",
       "4   5  2010      1    1     4    NaN   -20 -12.0  1018.0   NW  12.97   0   0"
      ]
     },
     "execution_count": 2,
     "metadata": {},
     "output_type": "execute_result"
    }
   ],
   "source": [
    "## check data\n",
    "import pandas as pd\n",
    "df = pd.read_csv(data_path)\n",
    "\n",
    "df.head()"
   ]
  },
  {
   "cell_type": "code",
   "execution_count": 8,
   "id": "a032804e",
   "metadata": {},
   "outputs": [
    {
     "name": "stdout",
     "output_type": "stream",
     "text": [
      "<class 'pandas.core.frame.DataFrame'>\n",
      "RangeIndex: 43824 entries, 0 to 43823\n",
      "Data columns (total 13 columns):\n",
      " #   Column  Non-Null Count  Dtype  \n",
      "---  ------  --------------  -----  \n",
      " 0   No      43824 non-null  int64  \n",
      " 1   year    43824 non-null  int64  \n",
      " 2   month   43824 non-null  int64  \n",
      " 3   day     43824 non-null  int64  \n",
      " 4   hour    43824 non-null  int64  \n",
      " 5   pm2.5   41757 non-null  float64\n",
      " 6   DEWP    43824 non-null  int64  \n",
      " 7   TEMP    43824 non-null  float64\n",
      " 8   PRES    43824 non-null  float64\n",
      " 9   cbwd    43824 non-null  object \n",
      " 10  Iws     43824 non-null  float64\n",
      " 11  Is      43824 non-null  int64  \n",
      " 12  Ir      43824 non-null  int64  \n",
      "dtypes: float64(4), int64(8), object(1)\n",
      "memory usage: 4.3+ MB\n"
     ]
    }
   ],
   "source": [
    "df.info()"
   ]
  },
  {
   "cell_type": "code",
   "execution_count": 5,
   "id": "39139c59",
   "metadata": {},
   "outputs": [
    {
     "data": {
      "text/plain": [
       "No          0\n",
       "year        0\n",
       "month       0\n",
       "day         0\n",
       "hour        0\n",
       "pm2.5    2067\n",
       "DEWP        0\n",
       "TEMP        0\n",
       "PRES        0\n",
       "cbwd        0\n",
       "Iws         0\n",
       "Is          0\n",
       "Ir          0\n",
       "dtype: int64"
      ]
     },
     "execution_count": 5,
     "metadata": {},
     "output_type": "execute_result"
    }
   ],
   "source": [
    "df.isnull().sum()"
   ]
  },
  {
   "cell_type": "code",
   "execution_count": 7,
   "id": "e950d089",
   "metadata": {},
   "outputs": [
    {
     "data": {
      "text/html": [
       "<div>\n",
       "<style scoped>\n",
       "    .dataframe tbody tr th:only-of-type {\n",
       "        vertical-align: middle;\n",
       "    }\n",
       "\n",
       "    .dataframe tbody tr th {\n",
       "        vertical-align: top;\n",
       "    }\n",
       "\n",
       "    .dataframe thead th {\n",
       "        text-align: right;\n",
       "    }\n",
       "</style>\n",
       "<table border=\"1\" class=\"dataframe\">\n",
       "  <thead>\n",
       "    <tr style=\"text-align: right;\">\n",
       "      <th></th>\n",
       "      <th>count</th>\n",
       "      <th>mean</th>\n",
       "      <th>std</th>\n",
       "      <th>min</th>\n",
       "      <th>25%</th>\n",
       "      <th>50%</th>\n",
       "      <th>75%</th>\n",
       "      <th>max</th>\n",
       "    </tr>\n",
       "  </thead>\n",
       "  <tbody>\n",
       "    <tr>\n",
       "      <th>No</th>\n",
       "      <td>43824.0</td>\n",
       "      <td>21912.500000</td>\n",
       "      <td>12651.043435</td>\n",
       "      <td>1.00</td>\n",
       "      <td>10956.75</td>\n",
       "      <td>21912.50</td>\n",
       "      <td>32868.25</td>\n",
       "      <td>43824.0</td>\n",
       "    </tr>\n",
       "    <tr>\n",
       "      <th>year</th>\n",
       "      <td>43824.0</td>\n",
       "      <td>2012.000000</td>\n",
       "      <td>1.413842</td>\n",
       "      <td>2010.00</td>\n",
       "      <td>2011.00</td>\n",
       "      <td>2012.00</td>\n",
       "      <td>2013.00</td>\n",
       "      <td>2014.0</td>\n",
       "    </tr>\n",
       "    <tr>\n",
       "      <th>month</th>\n",
       "      <td>43824.0</td>\n",
       "      <td>6.523549</td>\n",
       "      <td>3.448572</td>\n",
       "      <td>1.00</td>\n",
       "      <td>4.00</td>\n",
       "      <td>7.00</td>\n",
       "      <td>10.00</td>\n",
       "      <td>12.0</td>\n",
       "    </tr>\n",
       "    <tr>\n",
       "      <th>day</th>\n",
       "      <td>43824.0</td>\n",
       "      <td>15.727820</td>\n",
       "      <td>8.799425</td>\n",
       "      <td>1.00</td>\n",
       "      <td>8.00</td>\n",
       "      <td>16.00</td>\n",
       "      <td>23.00</td>\n",
       "      <td>31.0</td>\n",
       "    </tr>\n",
       "    <tr>\n",
       "      <th>hour</th>\n",
       "      <td>43824.0</td>\n",
       "      <td>11.500000</td>\n",
       "      <td>6.922266</td>\n",
       "      <td>0.00</td>\n",
       "      <td>5.75</td>\n",
       "      <td>11.50</td>\n",
       "      <td>17.25</td>\n",
       "      <td>23.0</td>\n",
       "    </tr>\n",
       "    <tr>\n",
       "      <th>pm2.5</th>\n",
       "      <td>41757.0</td>\n",
       "      <td>98.613215</td>\n",
       "      <td>92.050387</td>\n",
       "      <td>0.00</td>\n",
       "      <td>29.00</td>\n",
       "      <td>72.00</td>\n",
       "      <td>137.00</td>\n",
       "      <td>994.0</td>\n",
       "    </tr>\n",
       "    <tr>\n",
       "      <th>DEWP</th>\n",
       "      <td>43824.0</td>\n",
       "      <td>1.817246</td>\n",
       "      <td>14.433440</td>\n",
       "      <td>-40.00</td>\n",
       "      <td>-10.00</td>\n",
       "      <td>2.00</td>\n",
       "      <td>15.00</td>\n",
       "      <td>28.0</td>\n",
       "    </tr>\n",
       "    <tr>\n",
       "      <th>TEMP</th>\n",
       "      <td>43824.0</td>\n",
       "      <td>12.448521</td>\n",
       "      <td>12.198613</td>\n",
       "      <td>-19.00</td>\n",
       "      <td>2.00</td>\n",
       "      <td>14.00</td>\n",
       "      <td>23.00</td>\n",
       "      <td>42.0</td>\n",
       "    </tr>\n",
       "    <tr>\n",
       "      <th>PRES</th>\n",
       "      <td>43824.0</td>\n",
       "      <td>1016.447654</td>\n",
       "      <td>10.268698</td>\n",
       "      <td>991.00</td>\n",
       "      <td>1008.00</td>\n",
       "      <td>1016.00</td>\n",
       "      <td>1025.00</td>\n",
       "      <td>1046.0</td>\n",
       "    </tr>\n",
       "    <tr>\n",
       "      <th>Iws</th>\n",
       "      <td>43824.0</td>\n",
       "      <td>23.889140</td>\n",
       "      <td>50.010635</td>\n",
       "      <td>0.45</td>\n",
       "      <td>1.79</td>\n",
       "      <td>5.37</td>\n",
       "      <td>21.91</td>\n",
       "      <td>585.6</td>\n",
       "    </tr>\n",
       "    <tr>\n",
       "      <th>Is</th>\n",
       "      <td>43824.0</td>\n",
       "      <td>0.052734</td>\n",
       "      <td>0.760375</td>\n",
       "      <td>0.00</td>\n",
       "      <td>0.00</td>\n",
       "      <td>0.00</td>\n",
       "      <td>0.00</td>\n",
       "      <td>27.0</td>\n",
       "    </tr>\n",
       "    <tr>\n",
       "      <th>Ir</th>\n",
       "      <td>43824.0</td>\n",
       "      <td>0.194916</td>\n",
       "      <td>1.415867</td>\n",
       "      <td>0.00</td>\n",
       "      <td>0.00</td>\n",
       "      <td>0.00</td>\n",
       "      <td>0.00</td>\n",
       "      <td>36.0</td>\n",
       "    </tr>\n",
       "  </tbody>\n",
       "</table>\n",
       "</div>"
      ],
      "text/plain": [
       "         count          mean           std      min       25%       50%  \\\n",
       "No     43824.0  21912.500000  12651.043435     1.00  10956.75  21912.50   \n",
       "year   43824.0   2012.000000      1.413842  2010.00   2011.00   2012.00   \n",
       "month  43824.0      6.523549      3.448572     1.00      4.00      7.00   \n",
       "day    43824.0     15.727820      8.799425     1.00      8.00     16.00   \n",
       "hour   43824.0     11.500000      6.922266     0.00      5.75     11.50   \n",
       "pm2.5  41757.0     98.613215     92.050387     0.00     29.00     72.00   \n",
       "DEWP   43824.0      1.817246     14.433440   -40.00    -10.00      2.00   \n",
       "TEMP   43824.0     12.448521     12.198613   -19.00      2.00     14.00   \n",
       "PRES   43824.0   1016.447654     10.268698   991.00   1008.00   1016.00   \n",
       "Iws    43824.0     23.889140     50.010635     0.45      1.79      5.37   \n",
       "Is     43824.0      0.052734      0.760375     0.00      0.00      0.00   \n",
       "Ir     43824.0      0.194916      1.415867     0.00      0.00      0.00   \n",
       "\n",
       "            75%      max  \n",
       "No     32868.25  43824.0  \n",
       "year    2013.00   2014.0  \n",
       "month     10.00     12.0  \n",
       "day       23.00     31.0  \n",
       "hour      17.25     23.0  \n",
       "pm2.5    137.00    994.0  \n",
       "DEWP      15.00     28.0  \n",
       "TEMP      23.00     42.0  \n",
       "PRES    1025.00   1046.0  \n",
       "Iws       21.91    585.6  \n",
       "Is         0.00     27.0  \n",
       "Ir         0.00     36.0  "
      ]
     },
     "execution_count": 7,
     "metadata": {},
     "output_type": "execute_result"
    }
   ],
   "source": [
    "df.describe().T"
   ]
  },
  {
   "cell_type": "code",
   "execution_count": 5,
   "id": "5e614002",
   "metadata": {},
   "outputs": [
    {
     "name": "stdout",
     "output_type": "stream",
     "text": [
      "Int64Index([    0,     1,     2,     3,     4,     5,     6,     7,     8,\n",
      "                9,\n",
      "            ...\n",
      "            43283, 43544, 43545, 43546, 43547, 43548, 43549, 43550, 43551,\n",
      "            43552],\n",
      "           dtype='int64', length=2067)\n"
     ]
    }
   ],
   "source": [
    "null_index = df[df['pm2.5'].isnull()].index\n",
    "print(null_index)"
   ]
  },
  {
   "cell_type": "code",
   "execution_count": 6,
   "id": "ff931df3",
   "metadata": {},
   "outputs": [
    {
     "data": {
      "image/png": "[encoded data removed]",
      "text/plain": [
       "<Figure size 720x576 with 1 Axes>"
      ]
     },
     "metadata": {
      "needs_background": "light"
     },
     "output_type": "display_data"
    }
   ],
   "source": [
    "import matplotlib.pyplot as plt\n",
    "\n",
    "plt.figure(figsize=(10,8))\n",
    "plt.plot(df['pm2.5'])\n",
    "plt.show()"
   ]
  },
  {
   "cell_type": "code",
   "execution_count": 8,
   "id": "b9fefd07",
   "metadata": {},
   "outputs": [
    {
     "data": {
      "image/png": "[encoded data removed]",
      "text/plain": [
       "<Figure size 720x576 with 1 Axes>"
      ]
     },
     "metadata": {
      "needs_background": "light"
     },
     "output_type": "display_data"
    }
   ],
   "source": [
    "plt.figure(figsize=(10,8))\n",
    "plt.plot(df['pm2.5'])\n",
    "plt.axis([0,50, 0, 200])\n",
    "plt.show()"
   ]
  },
  {
   "cell_type": "code",
   "execution_count": 9,
   "id": "6c866d2b",
   "metadata": {},
   "outputs": [
    {
     "data": {
      "text/html": [
       "<div>\n",
       "<style scoped>\n",
       "    .dataframe tbody tr th:only-of-type {\n",
       "        vertical-align: middle;\n",
       "    }\n",
       "\n",
       "    .dataframe tbody tr th {\n",
       "        vertical-align: top;\n",
       "    }\n",
       "\n",
       "    .dataframe thead th {\n",
       "        text-align: right;\n",
       "    }\n",
       "</style>\n",
       "<table border=\"1\" class=\"dataframe\">\n",
       "  <thead>\n",
       "    <tr style=\"text-align: right;\">\n",
       "      <th></th>\n",
       "      <th>No</th>\n",
       "      <th>year</th>\n",
       "      <th>month</th>\n",
       "      <th>day</th>\n",
       "      <th>hour</th>\n",
       "      <th>pm2.5</th>\n",
       "      <th>DEWP</th>\n",
       "      <th>TEMP</th>\n",
       "      <th>PRES</th>\n",
       "      <th>cbwd</th>\n",
       "      <th>Iws</th>\n",
       "      <th>Is</th>\n",
       "      <th>Ir</th>\n",
       "    </tr>\n",
       "  </thead>\n",
       "  <tbody>\n",
       "    <tr>\n",
       "      <th>0</th>\n",
       "      <td>1</td>\n",
       "      <td>2010</td>\n",
       "      <td>1</td>\n",
       "      <td>1</td>\n",
       "      <td>0</td>\n",
       "      <td>NaN</td>\n",
       "      <td>-21</td>\n",
       "      <td>-11.0</td>\n",
       "      <td>1021.0</td>\n",
       "      <td>NW</td>\n",
       "      <td>1.79</td>\n",
       "      <td>0</td>\n",
       "      <td>0</td>\n",
       "    </tr>\n",
       "    <tr>\n",
       "      <th>1</th>\n",
       "      <td>2</td>\n",
       "      <td>2010</td>\n",
       "      <td>1</td>\n",
       "      <td>1</td>\n",
       "      <td>1</td>\n",
       "      <td>NaN</td>\n",
       "      <td>-21</td>\n",
       "      <td>-12.0</td>\n",
       "      <td>1020.0</td>\n",
       "      <td>NW</td>\n",
       "      <td>4.92</td>\n",
       "      <td>0</td>\n",
       "      <td>0</td>\n",
       "    </tr>\n",
       "    <tr>\n",
       "      <th>2</th>\n",
       "      <td>3</td>\n",
       "      <td>2010</td>\n",
       "      <td>1</td>\n",
       "      <td>1</td>\n",
       "      <td>2</td>\n",
       "      <td>NaN</td>\n",
       "      <td>-21</td>\n",
       "      <td>-11.0</td>\n",
       "      <td>1019.0</td>\n",
       "      <td>NW</td>\n",
       "      <td>6.71</td>\n",
       "      <td>0</td>\n",
       "      <td>0</td>\n",
       "    </tr>\n",
       "    <tr>\n",
       "      <th>3</th>\n",
       "      <td>4</td>\n",
       "      <td>2010</td>\n",
       "      <td>1</td>\n",
       "      <td>1</td>\n",
       "      <td>3</td>\n",
       "      <td>NaN</td>\n",
       "      <td>-21</td>\n",
       "      <td>-14.0</td>\n",
       "      <td>1019.0</td>\n",
       "      <td>NW</td>\n",
       "      <td>9.84</td>\n",
       "      <td>0</td>\n",
       "      <td>0</td>\n",
       "    </tr>\n",
       "    <tr>\n",
       "      <th>4</th>\n",
       "      <td>5</td>\n",
       "      <td>2010</td>\n",
       "      <td>1</td>\n",
       "      <td>1</td>\n",
       "      <td>4</td>\n",
       "      <td>NaN</td>\n",
       "      <td>-20</td>\n",
       "      <td>-12.0</td>\n",
       "      <td>1018.0</td>\n",
       "      <td>NW</td>\n",
       "      <td>12.97</td>\n",
       "      <td>0</td>\n",
       "      <td>0</td>\n",
       "    </tr>\n",
       "    <tr>\n",
       "      <th>5</th>\n",
       "      <td>6</td>\n",
       "      <td>2010</td>\n",
       "      <td>1</td>\n",
       "      <td>1</td>\n",
       "      <td>5</td>\n",
       "      <td>NaN</td>\n",
       "      <td>-19</td>\n",
       "      <td>-10.0</td>\n",
       "      <td>1017.0</td>\n",
       "      <td>NW</td>\n",
       "      <td>16.10</td>\n",
       "      <td>0</td>\n",
       "      <td>0</td>\n",
       "    </tr>\n",
       "    <tr>\n",
       "      <th>6</th>\n",
       "      <td>7</td>\n",
       "      <td>2010</td>\n",
       "      <td>1</td>\n",
       "      <td>1</td>\n",
       "      <td>6</td>\n",
       "      <td>NaN</td>\n",
       "      <td>-19</td>\n",
       "      <td>-9.0</td>\n",
       "      <td>1017.0</td>\n",
       "      <td>NW</td>\n",
       "      <td>19.23</td>\n",
       "      <td>0</td>\n",
       "      <td>0</td>\n",
       "    </tr>\n",
       "    <tr>\n",
       "      <th>7</th>\n",
       "      <td>8</td>\n",
       "      <td>2010</td>\n",
       "      <td>1</td>\n",
       "      <td>1</td>\n",
       "      <td>7</td>\n",
       "      <td>NaN</td>\n",
       "      <td>-19</td>\n",
       "      <td>-9.0</td>\n",
       "      <td>1017.0</td>\n",
       "      <td>NW</td>\n",
       "      <td>21.02</td>\n",
       "      <td>0</td>\n",
       "      <td>0</td>\n",
       "    </tr>\n",
       "    <tr>\n",
       "      <th>8</th>\n",
       "      <td>9</td>\n",
       "      <td>2010</td>\n",
       "      <td>1</td>\n",
       "      <td>1</td>\n",
       "      <td>8</td>\n",
       "      <td>NaN</td>\n",
       "      <td>-19</td>\n",
       "      <td>-9.0</td>\n",
       "      <td>1017.0</td>\n",
       "      <td>NW</td>\n",
       "      <td>24.15</td>\n",
       "      <td>0</td>\n",
       "      <td>0</td>\n",
       "    </tr>\n",
       "    <tr>\n",
       "      <th>9</th>\n",
       "      <td>10</td>\n",
       "      <td>2010</td>\n",
       "      <td>1</td>\n",
       "      <td>1</td>\n",
       "      <td>9</td>\n",
       "      <td>NaN</td>\n",
       "      <td>-20</td>\n",
       "      <td>-8.0</td>\n",
       "      <td>1017.0</td>\n",
       "      <td>NW</td>\n",
       "      <td>27.28</td>\n",
       "      <td>0</td>\n",
       "      <td>0</td>\n",
       "    </tr>\n",
       "    <tr>\n",
       "      <th>10</th>\n",
       "      <td>11</td>\n",
       "      <td>2010</td>\n",
       "      <td>1</td>\n",
       "      <td>1</td>\n",
       "      <td>10</td>\n",
       "      <td>NaN</td>\n",
       "      <td>-19</td>\n",
       "      <td>-7.0</td>\n",
       "      <td>1017.0</td>\n",
       "      <td>NW</td>\n",
       "      <td>31.30</td>\n",
       "      <td>0</td>\n",
       "      <td>0</td>\n",
       "    </tr>\n",
       "    <tr>\n",
       "      <th>11</th>\n",
       "      <td>12</td>\n",
       "      <td>2010</td>\n",
       "      <td>1</td>\n",
       "      <td>1</td>\n",
       "      <td>11</td>\n",
       "      <td>NaN</td>\n",
       "      <td>-18</td>\n",
       "      <td>-5.0</td>\n",
       "      <td>1017.0</td>\n",
       "      <td>NW</td>\n",
       "      <td>34.43</td>\n",
       "      <td>0</td>\n",
       "      <td>0</td>\n",
       "    </tr>\n",
       "    <tr>\n",
       "      <th>12</th>\n",
       "      <td>13</td>\n",
       "      <td>2010</td>\n",
       "      <td>1</td>\n",
       "      <td>1</td>\n",
       "      <td>12</td>\n",
       "      <td>NaN</td>\n",
       "      <td>-19</td>\n",
       "      <td>-5.0</td>\n",
       "      <td>1015.0</td>\n",
       "      <td>NW</td>\n",
       "      <td>37.56</td>\n",
       "      <td>0</td>\n",
       "      <td>0</td>\n",
       "    </tr>\n",
       "    <tr>\n",
       "      <th>13</th>\n",
       "      <td>14</td>\n",
       "      <td>2010</td>\n",
       "      <td>1</td>\n",
       "      <td>1</td>\n",
       "      <td>13</td>\n",
       "      <td>NaN</td>\n",
       "      <td>-18</td>\n",
       "      <td>-3.0</td>\n",
       "      <td>1015.0</td>\n",
       "      <td>NW</td>\n",
       "      <td>40.69</td>\n",
       "      <td>0</td>\n",
       "      <td>0</td>\n",
       "    </tr>\n",
       "    <tr>\n",
       "      <th>14</th>\n",
       "      <td>15</td>\n",
       "      <td>2010</td>\n",
       "      <td>1</td>\n",
       "      <td>1</td>\n",
       "      <td>14</td>\n",
       "      <td>NaN</td>\n",
       "      <td>-18</td>\n",
       "      <td>-2.0</td>\n",
       "      <td>1014.0</td>\n",
       "      <td>NW</td>\n",
       "      <td>43.82</td>\n",
       "      <td>0</td>\n",
       "      <td>0</td>\n",
       "    </tr>\n",
       "    <tr>\n",
       "      <th>15</th>\n",
       "      <td>16</td>\n",
       "      <td>2010</td>\n",
       "      <td>1</td>\n",
       "      <td>1</td>\n",
       "      <td>15</td>\n",
       "      <td>NaN</td>\n",
       "      <td>-18</td>\n",
       "      <td>-1.0</td>\n",
       "      <td>1014.0</td>\n",
       "      <td>cv</td>\n",
       "      <td>0.89</td>\n",
       "      <td>0</td>\n",
       "      <td>0</td>\n",
       "    </tr>\n",
       "    <tr>\n",
       "      <th>16</th>\n",
       "      <td>17</td>\n",
       "      <td>2010</td>\n",
       "      <td>1</td>\n",
       "      <td>1</td>\n",
       "      <td>16</td>\n",
       "      <td>NaN</td>\n",
       "      <td>-19</td>\n",
       "      <td>-2.0</td>\n",
       "      <td>1015.0</td>\n",
       "      <td>NW</td>\n",
       "      <td>1.79</td>\n",
       "      <td>0</td>\n",
       "      <td>0</td>\n",
       "    </tr>\n",
       "    <tr>\n",
       "      <th>17</th>\n",
       "      <td>18</td>\n",
       "      <td>2010</td>\n",
       "      <td>1</td>\n",
       "      <td>1</td>\n",
       "      <td>17</td>\n",
       "      <td>NaN</td>\n",
       "      <td>-18</td>\n",
       "      <td>-3.0</td>\n",
       "      <td>1015.0</td>\n",
       "      <td>NW</td>\n",
       "      <td>2.68</td>\n",
       "      <td>0</td>\n",
       "      <td>0</td>\n",
       "    </tr>\n",
       "    <tr>\n",
       "      <th>18</th>\n",
       "      <td>19</td>\n",
       "      <td>2010</td>\n",
       "      <td>1</td>\n",
       "      <td>1</td>\n",
       "      <td>18</td>\n",
       "      <td>NaN</td>\n",
       "      <td>-18</td>\n",
       "      <td>-5.0</td>\n",
       "      <td>1016.0</td>\n",
       "      <td>NE</td>\n",
       "      <td>1.79</td>\n",
       "      <td>0</td>\n",
       "      <td>0</td>\n",
       "    </tr>\n",
       "    <tr>\n",
       "      <th>19</th>\n",
       "      <td>20</td>\n",
       "      <td>2010</td>\n",
       "      <td>1</td>\n",
       "      <td>1</td>\n",
       "      <td>19</td>\n",
       "      <td>NaN</td>\n",
       "      <td>-17</td>\n",
       "      <td>-4.0</td>\n",
       "      <td>1017.0</td>\n",
       "      <td>NW</td>\n",
       "      <td>1.79</td>\n",
       "      <td>0</td>\n",
       "      <td>0</td>\n",
       "    </tr>\n",
       "    <tr>\n",
       "      <th>20</th>\n",
       "      <td>21</td>\n",
       "      <td>2010</td>\n",
       "      <td>1</td>\n",
       "      <td>1</td>\n",
       "      <td>20</td>\n",
       "      <td>NaN</td>\n",
       "      <td>-17</td>\n",
       "      <td>-5.0</td>\n",
       "      <td>1017.0</td>\n",
       "      <td>cv</td>\n",
       "      <td>0.89</td>\n",
       "      <td>0</td>\n",
       "      <td>0</td>\n",
       "    </tr>\n",
       "    <tr>\n",
       "      <th>21</th>\n",
       "      <td>22</td>\n",
       "      <td>2010</td>\n",
       "      <td>1</td>\n",
       "      <td>1</td>\n",
       "      <td>21</td>\n",
       "      <td>NaN</td>\n",
       "      <td>-17</td>\n",
       "      <td>-5.0</td>\n",
       "      <td>1018.0</td>\n",
       "      <td>NW</td>\n",
       "      <td>1.79</td>\n",
       "      <td>0</td>\n",
       "      <td>0</td>\n",
       "    </tr>\n",
       "    <tr>\n",
       "      <th>22</th>\n",
       "      <td>23</td>\n",
       "      <td>2010</td>\n",
       "      <td>1</td>\n",
       "      <td>1</td>\n",
       "      <td>22</td>\n",
       "      <td>NaN</td>\n",
       "      <td>-17</td>\n",
       "      <td>-5.0</td>\n",
       "      <td>1018.0</td>\n",
       "      <td>NW</td>\n",
       "      <td>2.68</td>\n",
       "      <td>0</td>\n",
       "      <td>0</td>\n",
       "    </tr>\n",
       "    <tr>\n",
       "      <th>23</th>\n",
       "      <td>24</td>\n",
       "      <td>2010</td>\n",
       "      <td>1</td>\n",
       "      <td>1</td>\n",
       "      <td>23</td>\n",
       "      <td>NaN</td>\n",
       "      <td>-17</td>\n",
       "      <td>-5.0</td>\n",
       "      <td>1020.0</td>\n",
       "      <td>cv</td>\n",
       "      <td>0.89</td>\n",
       "      <td>0</td>\n",
       "      <td>0</td>\n",
       "    </tr>\n",
       "    <tr>\n",
       "      <th>24</th>\n",
       "      <td>25</td>\n",
       "      <td>2010</td>\n",
       "      <td>1</td>\n",
       "      <td>2</td>\n",
       "      <td>0</td>\n",
       "      <td>129.0</td>\n",
       "      <td>-16</td>\n",
       "      <td>-4.0</td>\n",
       "      <td>1020.0</td>\n",
       "      <td>SE</td>\n",
       "      <td>1.79</td>\n",
       "      <td>0</td>\n",
       "      <td>0</td>\n",
       "    </tr>\n",
       "  </tbody>\n",
       "</table>\n",
       "</div>"
      ],
      "text/plain": [
       "    No  year  month  day  hour  pm2.5  DEWP  TEMP    PRES cbwd    Iws  Is  Ir\n",
       "0    1  2010      1    1     0    NaN   -21 -11.0  1021.0   NW   1.79   0   0\n",
       "1    2  2010      1    1     1    NaN   -21 -12.0  1020.0   NW   4.92   0   0\n",
       "2    3  2010      1    1     2    NaN   -21 -11.0  1019.0   NW   6.71   0   0\n",
       "3    4  2010      1    1     3    NaN   -21 -14.0  1019.0   NW   9.84   0   0\n",
       "4    5  2010      1    1     4    NaN   -20 -12.0  1018.0   NW  12.97   0   0\n",
       "5    6  2010      1    1     5    NaN   -19 -10.0  1017.0   NW  16.10   0   0\n",
       "6    7  2010      1    1     6    NaN   -19  -9.0  1017.0   NW  19.23   0   0\n",
       "7    8  2010      1    1     7    NaN   -19  -9.0  1017.0   NW  21.02   0   0\n",
       "8    9  2010      1    1     8    NaN   -19  -9.0  1017.0   NW  24.15   0   0\n",
       "9   10  2010      1    1     9    NaN   -20  -8.0  1017.0   NW  27.28   0   0\n",
       "10  11  2010      1    1    10    NaN   -19  -7.0  1017.0   NW  31.30   0   0\n",
       "11  12  2010      1    1    11    NaN   -18  -5.0  1017.0   NW  34.43   0   0\n",
       "12  13  2010      1    1    12    NaN   -19  -5.0  1015.0   NW  37.56   0   0\n",
       "13  14  2010      1    1    13    NaN   -18  -3.0  1015.0   NW  40.69   0   0\n",
       "14  15  2010      1    1    14    NaN   -18  -2.0  1014.0   NW  43.82   0   0\n",
       "15  16  2010      1    1    15    NaN   -18  -1.0  1014.0   cv   0.89   0   0\n",
       "16  17  2010      1    1    16    NaN   -19  -2.0  1015.0   NW   1.79   0   0\n",
       "17  18  2010      1    1    17    NaN   -18  -3.0  1015.0   NW   2.68   0   0\n",
       "18  19  2010      1    1    18    NaN   -18  -5.0  1016.0   NE   1.79   0   0\n",
       "19  20  2010      1    1    19    NaN   -17  -4.0  1017.0   NW   1.79   0   0\n",
       "20  21  2010      1    1    20    NaN   -17  -5.0  1017.0   cv   0.89   0   0\n",
       "21  22  2010      1    1    21    NaN   -17  -5.0  1018.0   NW   1.79   0   0\n",
       "22  23  2010      1    1    22    NaN   -17  -5.0  1018.0   NW   2.68   0   0\n",
       "23  24  2010      1    1    23    NaN   -17  -5.0  1020.0   cv   0.89   0   0\n",
       "24  25  2010      1    2     0  129.0   -16  -4.0  1020.0   SE   1.79   0   0"
      ]
     },
     "execution_count": 9,
     "metadata": {},
     "output_type": "execute_result"
    }
   ],
   "source": [
    "df.head(25)"
   ]
  },
  {
   "cell_type": "markdown",
   "id": "25be5292",
   "metadata": {},
   "source": [
    "- Seems first 24 row values doesnt have 'pm2.5' values, we'll just remove these rows and rest will fill up with 0"
   ]
  },
  {
   "cell_type": "code",
   "execution_count": 11,
   "id": "42f2e13b",
   "metadata": {},
   "outputs": [],
   "source": [
    "df = df.iloc[24:, :]\n",
    "df.fillna(0, inplace = True)"
   ]
  },
  {
   "cell_type": "code",
   "execution_count": 12,
   "id": "66af8374",
   "metadata": {},
   "outputs": [
    {
     "name": "stdout",
     "output_type": "stream",
     "text": [
      "<class 'pandas.core.frame.DataFrame'>\n",
      "RangeIndex: 43800 entries, 24 to 43823\n",
      "Data columns (total 13 columns):\n",
      " #   Column  Non-Null Count  Dtype  \n",
      "---  ------  --------------  -----  \n",
      " 0   No      43800 non-null  int64  \n",
      " 1   year    43800 non-null  int64  \n",
      " 2   month   43800 non-null  int64  \n",
      " 3   day     43800 non-null  int64  \n",
      " 4   hour    43800 non-null  int64  \n",
      " 5   pm2.5   43800 non-null  float64\n",
      " 6   DEWP    43800 non-null  int64  \n",
      " 7   TEMP    43800 non-null  float64\n",
      " 8   PRES    43800 non-null  float64\n",
      " 9   cbwd    43800 non-null  object \n",
      " 10  Iws     43800 non-null  float64\n",
      " 11  Is      43800 non-null  int64  \n",
      " 12  Ir      43800 non-null  int64  \n",
      "dtypes: float64(4), int64(8), object(1)\n",
      "memory usage: 4.3+ MB\n"
     ]
    }
   ],
   "source": [
    "df.info()"
   ]
  },
  {
   "cell_type": "code",
   "execution_count": 13,
   "id": "5389cbc8",
   "metadata": {},
   "outputs": [
    {
     "data": {
      "text/plain": [
       "Index(['No', 'year', 'month', 'day', 'hour', 'pm2.5', 'DEWP', 'TEMP', 'PRES',\n",
       "       'cbwd', 'Iws', 'Is', 'Ir'],\n",
       "      dtype='object')"
      ]
     },
     "execution_count": 13,
     "metadata": {},
     "output_type": "execute_result"
    }
   ],
   "source": [
    "df.columns"
   ]
  },
  {
   "cell_type": "markdown",
   "id": "e18927e8",
   "metadata": {},
   "source": [
    "- For simplicity, we'll remove the columns ['No', 'year', 'month', 'day', 'hour', 'cbwd']\n",
    "- can include cbwd, but will need to encode it into a numeric data"
   ]
  },
  {
   "cell_type": "code",
   "execution_count": 20,
   "id": "357920d6",
   "metadata": {},
   "outputs": [
    {
     "data": {
      "text/html": [
       "<div>\n",
       "<style scoped>\n",
       "    .dataframe tbody tr th:only-of-type {\n",
       "        vertical-align: middle;\n",
       "    }\n",
       "\n",
       "    .dataframe tbody tr th {\n",
       "        vertical-align: top;\n",
       "    }\n",
       "\n",
       "    .dataframe thead th {\n",
       "        text-align: right;\n",
       "    }\n",
       "</style>\n",
       "<table border=\"1\" class=\"dataframe\">\n",
       "  <thead>\n",
       "    <tr style=\"text-align: right;\">\n",
       "      <th></th>\n",
       "      <th>pm2.5</th>\n",
       "      <th>DEWP</th>\n",
       "      <th>TEMP</th>\n",
       "      <th>PRES</th>\n",
       "      <th>Iws</th>\n",
       "      <th>Is</th>\n",
       "      <th>Ir</th>\n",
       "    </tr>\n",
       "  </thead>\n",
       "  <tbody>\n",
       "    <tr>\n",
       "      <th>24</th>\n",
       "      <td>129.0</td>\n",
       "      <td>-16</td>\n",
       "      <td>-4.0</td>\n",
       "      <td>1020.0</td>\n",
       "      <td>1.79</td>\n",
       "      <td>0</td>\n",
       "      <td>0</td>\n",
       "    </tr>\n",
       "    <tr>\n",
       "      <th>25</th>\n",
       "      <td>148.0</td>\n",
       "      <td>-15</td>\n",
       "      <td>-4.0</td>\n",
       "      <td>1020.0</td>\n",
       "      <td>2.68</td>\n",
       "      <td>0</td>\n",
       "      <td>0</td>\n",
       "    </tr>\n",
       "    <tr>\n",
       "      <th>26</th>\n",
       "      <td>159.0</td>\n",
       "      <td>-11</td>\n",
       "      <td>-5.0</td>\n",
       "      <td>1021.0</td>\n",
       "      <td>3.57</td>\n",
       "      <td>0</td>\n",
       "      <td>0</td>\n",
       "    </tr>\n",
       "    <tr>\n",
       "      <th>27</th>\n",
       "      <td>181.0</td>\n",
       "      <td>-7</td>\n",
       "      <td>-5.0</td>\n",
       "      <td>1022.0</td>\n",
       "      <td>5.36</td>\n",
       "      <td>1</td>\n",
       "      <td>0</td>\n",
       "    </tr>\n",
       "    <tr>\n",
       "      <th>28</th>\n",
       "      <td>138.0</td>\n",
       "      <td>-7</td>\n",
       "      <td>-5.0</td>\n",
       "      <td>1022.0</td>\n",
       "      <td>6.25</td>\n",
       "      <td>2</td>\n",
       "      <td>0</td>\n",
       "    </tr>\n",
       "  </tbody>\n",
       "</table>\n",
       "</div>"
      ],
      "text/plain": [
       "    pm2.5  DEWP  TEMP    PRES   Iws  Is  Ir\n",
       "24  129.0   -16  -4.0  1020.0  1.79   0   0\n",
       "25  148.0   -15  -4.0  1020.0  2.68   0   0\n",
       "26  159.0   -11  -5.0  1021.0  3.57   0   0\n",
       "27  181.0    -7  -5.0  1022.0  5.36   1   0\n",
       "28  138.0    -7  -5.0  1022.0  6.25   2   0"
      ]
     },
     "execution_count": 20,
     "metadata": {},
     "output_type": "execute_result"
    }
   ],
   "source": [
    "filtered_data = df[['pm2.5', 'DEWP', 'TEMP', 'PRES','Iws', 'Is', 'Ir']]\n",
    "filtered_data.head()"
   ]
  },
  {
   "cell_type": "markdown",
   "id": "1e6246e8",
   "metadata": {},
   "source": [
    "## Scaling and preparing the input data"
   ]
  },
  {
   "cell_type": "code",
   "execution_count": 17,
   "id": "58abfc00",
   "metadata": {},
   "outputs": [],
   "source": [
    "from sklearn.preprocessing import MinMaxScaler"
   ]
  },
  {
   "cell_type": "code",
   "execution_count": 21,
   "id": "40662cf8",
   "metadata": {},
   "outputs": [],
   "source": [
    "scaler = MinMaxScaler(feature_range=(0,1))\n",
    "filtered_data = scaler.fit_transform(filtered_data)"
   ]
  },
  {
   "cell_type": "code",
   "execution_count": 26,
   "id": "9e389763",
   "metadata": {},
   "outputs": [
    {
     "data": {
      "text/plain": [
       "array([[0.12977867, 0.35294118, 0.24590164, 0.52727273, 0.00229001,\n",
       "        0.        , 0.        ],\n",
       "       [0.14889336, 0.36764706, 0.24590164, 0.52727273, 0.00381099,\n",
       "        0.        , 0.        ],\n",
       "       [0.15995976, 0.42647059, 0.2295082 , 0.54545455, 0.00533197,\n",
       "        0.        , 0.        ],\n",
       "       [0.18209256, 0.48529412, 0.2295082 , 0.56363636, 0.00839101,\n",
       "        0.03703704, 0.        ],\n",
       "       [0.138833  , 0.48529412, 0.2295082 , 0.56363636, 0.00991199,\n",
       "        0.07407407, 0.        ]])"
      ]
     },
     "execution_count": 26,
     "metadata": {},
     "output_type": "execute_result"
    }
   ],
   "source": [
    "filtered_data[:5]"
   ]
  },
  {
   "cell_type": "code",
   "execution_count": 27,
   "id": "e6393d0e",
   "metadata": {},
   "outputs": [
    {
     "data": {
      "text/plain": [
       "(43800, 7)"
      ]
     },
     "execution_count": 27,
     "metadata": {},
     "output_type": "execute_result"
    }
   ],
   "source": [
    "# check the shape\n",
    "filtered_data.shape"
   ]
  },
  {
   "cell_type": "markdown",
   "id": "bc20ba18",
   "metadata": {},
   "source": [
    "- I'll just use 2500 rows of data to train and test this data\n",
    "- I'll use 2000 rows of data for training and remaining for validation"
   ]
  },
  {
   "cell_type": "code",
   "execution_count": 30,
   "id": "a06afa93",
   "metadata": {},
   "outputs": [
    {
     "data": {
      "text/plain": [
       "(2500, 7)"
      ]
     },
     "execution_count": 30,
     "metadata": {},
     "output_type": "execute_result"
    }
   ],
   "source": [
    "input_data = filtered_data[:2500, :]\n",
    "input_data.shape"
   ]
  },
  {
   "cell_type": "markdown",
   "id": "4e8c1206",
   "metadata": {},
   "source": [
    "### Plot and check the distribution for the target variable"
   ]
  },
  {
   "cell_type": "code",
   "execution_count": 37,
   "id": "6c0b3bcf",
   "metadata": {},
   "outputs": [
    {
     "data": {
      "image/png": "[encoded data removed]",
      "text/plain": [
       "<Figure size 720x576 with 1 Axes>"
      ]
     },
     "metadata": {
      "needs_background": "light"
     },
     "output_type": "display_data"
    }
   ],
   "source": [
    "plt.figure(figsize=(10, 8))\n",
    "plt.plot(input_data[:, 0])\n",
    "plt.show()"
   ]
  },
  {
   "cell_type": "code",
   "execution_count": 38,
   "id": "c5090002",
   "metadata": {},
   "outputs": [
    {
     "data": {
      "image/png": "[encoded data removed]",
      "text/plain": [
       "<Figure size 720x576 with 1 Axes>"
      ]
     },
     "metadata": {
      "needs_background": "light"
     },
     "output_type": "display_data"
    }
   ],
   "source": [
    "plt.figure(figsize=(10, 8))\n",
    "plt.plot(input_data[:, 0])\n",
    "plt.axis([0, 500, 0, 0.6])\n",
    "plt.show()"
   ]
  },
  {
   "cell_type": "code",
   "execution_count": 32,
   "id": "0d4def45",
   "metadata": {},
   "outputs": [
    {
     "name": "stdout",
     "output_type": "stream",
     "text": [
      "2000\n",
      "500\n"
     ]
    }
   ],
   "source": [
    "import numpy as np\n",
    "\n",
    "split_time = 2000\n",
    "\n",
    "train_series = input_data[:split_time]\n",
    "valid_series = input_data[split_time:]\n",
    "\n",
    "# set train and test time series\n",
    "train_time = range(split_time)\n",
    "print(len(train_time))\n",
    "\n",
    "valid_time = np.array(range(split_time, (split_time + (len(input_data) - split_time))))\n",
    "print(len(valid_time))"
   ]
  },
  {
   "cell_type": "markdown",
   "id": "d64291f6",
   "metadata": {},
   "source": [
    "### function to generate train and test data"
   ]
  },
  {
   "cell_type": "code",
   "execution_count": 43,
   "id": "70bcb215",
   "metadata": {},
   "outputs": [],
   "source": [
    "import tensorflow as tf"
   ]
  },
  {
   "cell_type": "code",
   "execution_count": 33,
   "id": "b0123af5",
   "metadata": {},
   "outputs": [],
   "source": [
    "def generate_windowed_datasets(series, batch_size, buffer_size, window_size):\n",
    "    \n",
    "    datasets = tf.data.Dataset.from_tensor_slices(series)\n",
    "    datasets = datasets.window(size=window_size + 1, shift = 1, drop_remainder=True)\n",
    "    datasets = datasets.flat_map(lambda window: window.batch(window_size + 1))\n",
    "    \n",
    "    # splitting up into features and labels\n",
    "    datasets = datasets.map(lambda w : (w[:-1], w[-1][0]))\n",
    "    datasets = datasets.shuffle(buffer_size=buffer_size)\n",
    "    datasets = datasets.batch(batch_size=batch_size).prefetch(1)\n",
    "    return datasets    "
   ]
  },
  {
   "cell_type": "code",
   "execution_count": 40,
   "id": "56292f9f",
   "metadata": {},
   "outputs": [],
   "source": [
    "# define hyper parameters\n",
    "\n",
    "WINDOW_SIZE = 96\n",
    "BUFFER_SIZE = 2000\n",
    "BATCH_SIZE = 128"
   ]
  },
  {
   "cell_type": "code",
   "execution_count": 44,
   "id": "8e374eb8",
   "metadata": {},
   "outputs": [
    {
     "name": "stdout",
     "output_type": "stream",
     "text": [
      "Type: <class 'tuple'>\n",
      "length :2\n",
      "Feature Shape : (128, 96, 7)\n",
      "Label : (128,)\n"
     ]
    }
   ],
   "source": [
    "# create train and valid datasets\n",
    "\n",
    "train_dataset = generate_windowed_datasets(train_series, BATCH_SIZE, BUFFER_SIZE, WINDOW_SIZE)\n",
    "\n",
    "# check data in train_dataset\n",
    "\n",
    "for data in train_dataset.take(1):\n",
    "    print('Type: {}'.format(type(data)))\n",
    "    print('length :{}'.format(len(data)))\n",
    "    print('Feature Shape : {}'.format(data[0].shape))\n",
    "    print('Label : {}'.format(data[1].shape))"
   ]
  },
  {
   "cell_type": "markdown",
   "id": "d8622015",
   "metadata": {},
   "source": [
    "### Create Model"
   ]
  },
  {
   "cell_type": "code",
   "execution_count": 45,
   "id": "2f27cf21",
   "metadata": {},
   "outputs": [
    {
     "name": "stdout",
     "output_type": "stream",
     "text": [
      "Model: \"sequential\"\n",
      "_________________________________________________________________\n",
      " Layer (type)                Output Shape              Param #   \n",
      "=================================================================\n",
      " lstm (LSTM)                 (None, 96, 64)            18432     \n",
      "                                                                 \n",
      " lstm_1 (LSTM)               (None, 96, 64)            33024     \n",
      "                                                                 \n",
      " lstm_2 (LSTM)               (None, 64)                33024     \n",
      "                                                                 \n",
      " dense (Dense)               (None, 1)                 65        \n",
      "                                                                 \n",
      "=================================================================\n",
      "Total params: 84,545\n",
      "Trainable params: 84,545\n",
      "Non-trainable params: 0\n",
      "_________________________________________________________________\n"
     ]
    }
   ],
   "source": [
    "model = tf.keras.models.Sequential([\n",
    "    \n",
    "    #tf.keras.layers.Lambda(lambda x:tf.expand_dims(x, axis = 0),  input_shape = [None, 2]),\n",
    "    tf.keras.layers.LSTM(64, return_sequences=True, input_shape = (WINDOW_SIZE, 7)),\n",
    "    tf.keras.layers.LSTM(64, return_sequences=True),\n",
    "    tf.keras.layers.LSTM(64),\n",
    "    tf.keras.layers.Dense(1)\n",
    "])\n",
    "\n",
    "model.summary()"
   ]
  },
  {
   "cell_type": "code",
   "execution_count": 46,
   "id": "8bb7c97f",
   "metadata": {},
   "outputs": [],
   "source": [
    "## store the initial weights\n",
    "\n",
    "init_weights = model.get_weights()"
   ]
  },
  {
   "cell_type": "code",
   "execution_count": 47,
   "id": "14454f81",
   "metadata": {},
   "outputs": [
    {
     "name": "stdout",
     "output_type": "stream",
     "text": [
      "Epoch 1/100\n",
      "15/15 [==============================] - 27s 847ms/step - loss: 0.0146 - mae: 0.1441 - lr: 0.0010\n",
      "Epoch 2/100\n",
      "15/15 [==============================] - 11s 625ms/step - loss: 0.0055 - mae: 0.0692 - lr: 0.0011\n",
      "Epoch 3/100\n",
      "15/15 [==============================] - 11s 627ms/step - loss: 0.0039 - mae: 0.0667 - lr: 0.0013\n",
      "Epoch 4/100\n",
      "15/15 [==============================] - 10s 620ms/step - loss: 0.0039 - mae: 0.0683 - lr: 0.0014\n",
      "Epoch 5/100\n",
      "15/15 [==============================] - 11s 638ms/step - loss: 0.0039 - mae: 0.0650 - lr: 0.0016\n",
      "Epoch 6/100\n",
      "15/15 [==============================] - 11s 639ms/step - loss: 0.0038 - mae: 0.0641 - lr: 0.0018\n",
      "Epoch 7/100\n",
      "15/15 [==============================] - 11s 628ms/step - loss: 0.0038 - mae: 0.0636 - lr: 0.0020\n",
      "Epoch 8/100\n",
      "15/15 [==============================] - 11s 645ms/step - loss: 0.0038 - mae: 0.0638 - lr: 0.0022\n",
      "Epoch 9/100\n",
      "15/15 [==============================] - 11s 656ms/step - loss: 0.0038 - mae: 0.0636 - lr: 0.0025\n",
      "Epoch 10/100\n",
      "15/15 [==============================] - 11s 637ms/step - loss: 0.0038 - mae: 0.0635 - lr: 0.0028\n",
      "Epoch 11/100\n",
      "15/15 [==============================] - 11s 649ms/step - loss: 0.0037 - mae: 0.0626 - lr: 0.0032\n",
      "Epoch 12/100\n",
      "15/15 [==============================] - 11s 646ms/step - loss: 0.0037 - mae: 0.0631 - lr: 0.0035\n",
      "Epoch 13/100\n",
      "15/15 [==============================] - 11s 642ms/step - loss: 0.0037 - mae: 0.0626 - lr: 0.0040\n",
      "Epoch 14/100\n",
      "15/15 [==============================] - 11s 646ms/step - loss: 0.0037 - mae: 0.0622 - lr: 0.0045\n",
      "Epoch 15/100\n",
      "15/15 [==============================] - 11s 649ms/step - loss: 0.0036 - mae: 0.0616 - lr: 0.0050\n",
      "Epoch 16/100\n",
      "15/15 [==============================] - 11s 659ms/step - loss: 0.0036 - mae: 0.0615 - lr: 0.0056\n",
      "Epoch 17/100\n",
      "15/15 [==============================] - 11s 643ms/step - loss: 0.0036 - mae: 0.0610 - lr: 0.0063\n",
      "Epoch 18/100\n",
      "15/15 [==============================] - 11s 649ms/step - loss: 0.0035 - mae: 0.0604 - lr: 0.0071\n",
      "Epoch 19/100\n",
      "15/15 [==============================] - 11s 655ms/step - loss: 0.0035 - mae: 0.0606 - lr: 0.0079\n",
      "Epoch 20/100\n",
      "15/15 [==============================] - 10s 622ms/step - loss: 0.0035 - mae: 0.0602 - lr: 0.0089\n",
      "Epoch 21/100\n",
      "15/15 [==============================] - 11s 634ms/step - loss: 0.0034 - mae: 0.0582 - lr: 0.0100\n",
      "Epoch 22/100\n",
      "15/15 [==============================] - 8s 516ms/step - loss: 0.0034 - mae: 0.0597 - lr: 0.0112\n",
      "Epoch 23/100\n",
      "15/15 [==============================] - 11s 650ms/step - loss: 0.0033 - mae: 0.0585 - lr: 0.0126\n",
      "Epoch 24/100\n",
      "15/15 [==============================] - 11s 647ms/step - loss: 0.0033 - mae: 0.0577 - lr: 0.0141\n",
      "Epoch 25/100\n",
      "15/15 [==============================] - 10s 629ms/step - loss: 0.0033 - mae: 0.0574 - lr: 0.0158\n",
      "Epoch 26/100\n",
      "15/15 [==============================] - 11s 665ms/step - loss: 0.0032 - mae: 0.0563 - lr: 0.0178\n",
      "Epoch 27/100\n",
      "15/15 [==============================] - 11s 644ms/step - loss: 0.0032 - mae: 0.0559 - lr: 0.0200\n",
      "Epoch 28/100\n",
      "15/15 [==============================] - 9s 589ms/step - loss: 0.0031 - mae: 0.0551 - lr: 0.0224\n",
      "Epoch 29/100\n",
      "15/15 [==============================] - 11s 653ms/step - loss: 0.0031 - mae: 0.0548 - lr: 0.0251\n",
      "Epoch 30/100\n",
      "15/15 [==============================] - 11s 664ms/step - loss: 0.0030 - mae: 0.0542 - lr: 0.0282\n",
      "Epoch 31/100\n",
      "15/15 [==============================] - 11s 682ms/step - loss: 0.0030 - mae: 0.0529 - lr: 0.0316\n",
      "Epoch 32/100\n",
      "15/15 [==============================] - 11s 693ms/step - loss: 0.0030 - mae: 0.0536 - lr: 0.0355\n",
      "Epoch 33/100\n",
      "15/15 [==============================] - 11s 661ms/step - loss: 0.0028 - mae: 0.0518 - lr: 0.0398\n",
      "Epoch 34/100\n",
      "15/15 [==============================] - 11s 669ms/step - loss: 0.0028 - mae: 0.0507 - lr: 0.0447\n",
      "Epoch 35/100\n",
      "15/15 [==============================] - 11s 687ms/step - loss: 0.0027 - mae: 0.0501 - lr: 0.0501\n",
      "Epoch 36/100\n",
      "15/15 [==============================] - 11s 658ms/step - loss: 0.0027 - mae: 0.0506 - lr: 0.0562\n",
      "Epoch 37/100\n",
      "15/15 [==============================] - 11s 650ms/step - loss: 0.0027 - mae: 0.0491 - lr: 0.0631\n",
      "Epoch 38/100\n",
      "15/15 [==============================] - 11s 675ms/step - loss: 0.0026 - mae: 0.0483 - lr: 0.0708\n",
      "Epoch 39/100\n",
      "15/15 [==============================] - 11s 689ms/step - loss: 0.0025 - mae: 0.0473 - lr: 0.0794\n",
      "Epoch 40/100\n",
      "15/15 [==============================] - 11s 664ms/step - loss: 0.0025 - mae: 0.0466 - lr: 0.0891\n",
      "Epoch 41/100\n",
      "15/15 [==============================] - 9s 526ms/step - loss: 0.0025 - mae: 0.0480 - lr: 0.1000\n",
      "Epoch 42/100\n",
      "15/15 [==============================] - 11s 675ms/step - loss: 0.0026 - mae: 0.0481 - lr: 0.1122\n",
      "Epoch 43/100\n",
      "15/15 [==============================] - 11s 671ms/step - loss: 0.0026 - mae: 0.0489 - lr: 0.1259\n",
      "Epoch 44/100\n",
      "15/15 [==============================] - 11s 674ms/step - loss: 0.0026 - mae: 0.0484 - lr: 0.1413\n",
      "Epoch 45/100\n",
      "15/15 [==============================] - 11s 671ms/step - loss: 0.0024 - mae: 0.0454 - lr: 0.1585\n",
      "Epoch 46/100\n",
      "15/15 [==============================] - 11s 659ms/step - loss: 0.0024 - mae: 0.0465 - lr: 0.1778\n",
      "Epoch 47/100\n",
      "15/15 [==============================] - 11s 672ms/step - loss: 0.0026 - mae: 0.0502 - lr: 0.1995\n",
      "Epoch 48/100\n",
      "15/15 [==============================] - 11s 678ms/step - loss: 0.0025 - mae: 0.0485 - lr: 0.2239\n",
      "Epoch 49/100\n",
      "15/15 [==============================] - 11s 663ms/step - loss: 0.0024 - mae: 0.0457 - lr: 0.2512\n",
      "Epoch 50/100\n",
      "15/15 [==============================] - 11s 670ms/step - loss: 0.0025 - mae: 0.0482 - lr: 0.2818\n",
      "Epoch 51/100\n",
      "15/15 [==============================] - 11s 665ms/step - loss: 0.0024 - mae: 0.0473 - lr: 0.3162\n",
      "Epoch 52/100\n",
      "15/15 [==============================] - 11s 669ms/step - loss: 0.0024 - mae: 0.0468 - lr: 0.3548\n",
      "Epoch 53/100\n",
      "15/15 [==============================] - 11s 664ms/step - loss: 0.0028 - mae: 0.0530 - lr: 0.3981\n",
      "Epoch 54/100\n",
      "15/15 [==============================] - 11s 663ms/step - loss: 0.0025 - mae: 0.0478 - lr: 0.4467\n",
      "Epoch 55/100\n",
      "15/15 [==============================] - 11s 667ms/step - loss: 0.0025 - mae: 0.0485 - lr: 0.5012\n",
      "Epoch 56/100\n",
      "15/15 [==============================] - 11s 658ms/step - loss: 0.0023 - mae: 0.0447 - lr: 0.5623\n",
      "Epoch 57/100\n",
      "15/15 [==============================] - 11s 670ms/step - loss: 0.0026 - mae: 0.0504 - lr: 0.6310\n",
      "Epoch 58/100\n",
      "15/15 [==============================] - 11s 686ms/step - loss: 0.0022 - mae: 0.0446 - lr: 0.7079\n",
      "Epoch 59/100\n",
      "15/15 [==============================] - 11s 691ms/step - loss: 0.0022 - mae: 0.0449 - lr: 0.7943\n",
      "Epoch 60/100\n",
      "15/15 [==============================] - 11s 690ms/step - loss: 0.0025 - mae: 0.0496 - lr: 0.8913\n",
      "Epoch 61/100\n",
      "15/15 [==============================] - 12s 719ms/step - loss: 0.0028 - mae: 0.0533 - lr: 1.0000\n",
      "Epoch 62/100\n",
      "15/15 [==============================] - 11s 694ms/step - loss: 0.0028 - mae: 0.0546 - lr: 1.1220\n",
      "Epoch 63/100\n",
      "15/15 [==============================] - 12s 711ms/step - loss: 0.0025 - mae: 0.0500 - lr: 1.2589\n",
      "Epoch 64/100\n",
      "15/15 [==============================] - 12s 713ms/step - loss: 0.0024 - mae: 0.0469 - lr: 1.4125\n",
      "Epoch 65/100\n",
      "15/15 [==============================] - 12s 711ms/step - loss: 0.0027 - mae: 0.0526 - lr: 1.5849\n",
      "Epoch 66/100\n",
      "15/15 [==============================] - 11s 689ms/step - loss: 0.0031 - mae: 0.0568 - lr: 1.7783\n",
      "Epoch 67/100\n",
      "15/15 [==============================] - 12s 710ms/step - loss: 0.0029 - mae: 0.0576 - lr: 1.9953\n",
      "Epoch 68/100\n",
      "15/15 [==============================] - 11s 689ms/step - loss: 0.0037 - mae: 0.0642 - lr: 2.2387\n",
      "Epoch 69/100\n",
      "15/15 [==============================] - 11s 658ms/step - loss: 0.0023 - mae: 0.0482 - lr: 2.5119\n",
      "Epoch 70/100\n",
      "15/15 [==============================] - 11s 692ms/step - loss: 7.8269 - mae: 8.1765 - lr: 2.8184\n",
      "Epoch 71/100\n",
      "15/15 [==============================] - 11s 697ms/step - loss: 28.3695 - mae: 28.8695 - lr: 3.1623\n",
      "Epoch 72/100\n",
      "15/15 [==============================] - 11s 673ms/step - loss: 30.5564 - mae: 31.0564 - lr: 3.5481\n",
      "Epoch 73/100\n",
      "15/15 [==============================] - 12s 702ms/step - loss: 33.5020 - mae: 34.0020 - lr: 3.9811\n",
      "Epoch 74/100\n",
      "15/15 [==============================] - 11s 697ms/step - loss: 41.5356 - mae: 42.0356 - lr: 4.4668\n"
     ]
    },
    {
     "name": "stdout",
     "output_type": "stream",
     "text": [
      "Epoch 75/100\n",
      "15/15 [==============================] - 11s 667ms/step - loss: 42.0338 - mae: 42.5337 - lr: 5.0119\n",
      "Epoch 76/100\n",
      "15/15 [==============================] - 11s 698ms/step - loss: 52.6337 - mae: 53.1337 - lr: 5.6234\n",
      "Epoch 77/100\n",
      "15/15 [==============================] - 11s 692ms/step - loss: 55.2709 - mae: 55.7709 - lr: 6.3096\n",
      "Epoch 78/100\n",
      "15/15 [==============================] - 11s 679ms/step - loss: 158.3967 - mae: 158.8967 - lr: 7.0795\n",
      "Epoch 79/100\n",
      "15/15 [==============================] - 11s 685ms/step - loss: 66.0268 - mae: 66.5261 - lr: 7.9433\n",
      "Epoch 80/100\n",
      "15/15 [==============================] - 12s 707ms/step - loss: 83.7138 - mae: 84.1895 - lr: 8.9125\n",
      "Epoch 81/100\n",
      "15/15 [==============================] - 10s 605ms/step - loss: 138.8573 - mae: 139.3477 - lr: 10.0000\n",
      "Epoch 82/100\n",
      "15/15 [==============================] - 6s 375ms/step - loss: 269.1001 - mae: 269.6001 - lr: 11.2202\n",
      "Epoch 83/100\n",
      "15/15 [==============================] - 143s 10s/step - loss: 230.3993 - mae: 230.8993 - lr: 12.5893\n",
      "Epoch 84/100\n",
      "15/15 [==============================] - 8s 405ms/step - loss: 129.5187 - mae: 130.0187 - lr: 14.1254\n",
      "Epoch 85/100\n",
      "15/15 [==============================] - 5s 344ms/step - loss: 140.0167 - mae: 140.5167 - lr: 15.8489\n",
      "Epoch 86/100\n",
      "15/15 [==============================] - 5s 341ms/step - loss: 397.6212 - mae: 398.1212 - lr: 17.7828\n",
      "Epoch 87/100\n",
      "15/15 [==============================] - 6s 343ms/step - loss: 404.1355 - mae: 404.6355 - lr: 19.9526\n",
      "Epoch 88/100\n",
      "15/15 [==============================] - 6s 347ms/step - loss: 313.2509 - mae: 313.7509 - lr: 22.3872\n",
      "Epoch 89/100\n",
      "15/15 [==============================] - 6s 354ms/step - loss: 597.3286 - mae: 597.8286 - lr: 25.1189\n",
      "Epoch 90/100\n",
      "15/15 [==============================] - 6s 355ms/step - loss: 750.8116 - mae: 751.3116 - lr: 28.1838\n",
      "Epoch 91/100\n",
      "15/15 [==============================] - 6s 352ms/step - loss: 301.8449 - mae: 302.3449 - lr: 31.6228\n",
      "Epoch 92/100\n",
      "15/15 [==============================] - 6s 355ms/step - loss: 275.0675 - mae: 275.5676 - lr: 35.4813\n",
      "Epoch 93/100\n",
      "15/15 [==============================] - 6s 354ms/step - loss: 358.9254 - mae: 359.4254 - lr: 39.8107\n",
      "Epoch 94/100\n",
      "15/15 [==============================] - 6s 368ms/step - loss: 976.3638 - mae: 976.8638 - lr: 44.6684\n",
      "Epoch 95/100\n",
      "15/15 [==============================] - 6s 378ms/step - loss: 2094.9280 - mae: 2095.4280 - lr: 50.1187\n",
      "Epoch 96/100\n",
      "15/15 [==============================] - 6s 359ms/step - loss: 1178.6000 - mae: 1179.1000 - lr: 56.2341\n",
      "Epoch 97/100\n",
      "15/15 [==============================] - 6s 361ms/step - loss: 1789.7271 - mae: 1790.2271 - lr: 63.0957\n",
      "Epoch 98/100\n",
      "15/15 [==============================] - 6s 354ms/step - loss: 1870.1940 - mae: 1870.6940 - lr: 70.7946\n",
      "Epoch 99/100\n",
      "15/15 [==============================] - 8s 527ms/step - loss: 1995.4915 - mae: 1995.9915 - lr: 79.4328\n",
      "Epoch 100/100\n",
      "15/15 [==============================] - 10s 594ms/step - loss: 2518.2183 - mae: 2518.7183 - lr: 89.1251\n"
     ]
    }
   ],
   "source": [
    "#tf.keras.backend.clear_session()\n",
    "\n",
    "## set up the learning rate parameter\n",
    "lr_schedule = tf.keras.callbacks.LearningRateScheduler(lambda epoch : 1e-3 * 10 ** (epoch/20))\n",
    "\n",
    "# compile the model\n",
    "model.compile(optimizer=tf.keras.optimizers.SGD(momentum=0.9),\n",
    "             loss=tf.keras.losses.Huber(),\n",
    "             metrics = ['mae'])\n",
    "\n",
    "num_epochs = 100\n",
    "\n",
    "# fit the model\n",
    "history = model.fit(train_dataset, epochs=num_epochs, callbacks=[lr_schedule])"
   ]
  },
  {
   "cell_type": "code",
   "execution_count": 53,
   "id": "df3d92d8",
   "metadata": {},
   "outputs": [
    {
     "data": {
      "image/png": "[encoded data removed]",
      "text/plain": [
       "<Figure size 576x432 with 1 Axes>"
      ]
     },
     "metadata": {
      "needs_background": "light"
     },
     "output_type": "display_data"
    }
   ],
   "source": [
    "metrics = pd.DataFrame(history.history)\n",
    "\n",
    "plt.figure(figsize=(8,6))\n",
    "plt.semilogx(metrics['lr'], metrics['loss'])\n",
    "plt.grid(True)\n",
    "plt.show()"
   ]
  },
  {
   "cell_type": "code",
   "execution_count": 51,
   "id": "c4c6067b",
   "metadata": {},
   "outputs": [
    {
     "data": {
      "image/png": "[encoded data removed]",
      "text/plain": [
       "<Figure size 576x432 with 1 Axes>"
      ]
     },
     "metadata": {
      "needs_background": "light"
     },
     "output_type": "display_data"
    }
   ],
   "source": [
    "plt.figure(figsize=(8,6))\n",
    "plt.semilogx(metrics['lr'], metrics['loss'])\n",
    "plt.grid(True)\n",
    "plt.axis([1e-2, 1, 0, 0.01])\n",
    "plt.show()"
   ]
  },
  {
   "cell_type": "code",
   "execution_count": 52,
   "id": "ef658a59",
   "metadata": {},
   "outputs": [
    {
     "name": "stdout",
     "output_type": "stream",
     "text": [
      "Epoch 1/100\n",
      "15/15 [==============================] - 21s 670ms/step - loss: 0.0075 - mae: 0.0973\n",
      "Epoch 2/100\n",
      "15/15 [==============================] - 12s 697ms/step - loss: 0.0040 - mae: 0.0632\n",
      "Epoch 3/100\n",
      "15/15 [==============================] - 12s 728ms/step - loss: 0.0034 - mae: 0.0603\n",
      "Epoch 4/100\n",
      "15/15 [==============================] - 12s 714ms/step - loss: 0.0032 - mae: 0.0559\n",
      "Epoch 5/100\n",
      "15/15 [==============================] - 12s 709ms/step - loss: 0.0030 - mae: 0.0531\n",
      "Epoch 6/100\n",
      "15/15 [==============================] - 12s 702ms/step - loss: 0.0029 - mae: 0.0527\n",
      "Epoch 7/100\n",
      "15/15 [==============================] - 10s 592ms/step - loss: 0.0028 - mae: 0.0515\n",
      "Epoch 8/100\n",
      "15/15 [==============================] - 11s 665ms/step - loss: 0.0027 - mae: 0.0495\n",
      "Epoch 9/100\n",
      "15/15 [==============================] - 10s 613ms/step - loss: 0.0026 - mae: 0.0482\n",
      "Epoch 10/100\n",
      "15/15 [==============================] - 10s 647ms/step - loss: 0.0025 - mae: 0.0475\n",
      "Epoch 11/100\n",
      "15/15 [==============================] - 10s 633ms/step - loss: 0.0025 - mae: 0.0462\n",
      "Epoch 12/100\n",
      "15/15 [==============================] - 11s 631ms/step - loss: 0.0025 - mae: 0.0476\n",
      "Epoch 13/100\n",
      "15/15 [==============================] - 11s 663ms/step - loss: 0.0024 - mae: 0.0460\n",
      "Epoch 14/100\n",
      "15/15 [==============================] - 11s 658ms/step - loss: 0.0025 - mae: 0.0463\n",
      "Epoch 15/100\n",
      "15/15 [==============================] - 12s 720ms/step - loss: 0.0024 - mae: 0.0454\n",
      "Epoch 16/100\n",
      "15/15 [==============================] - 11s 699ms/step - loss: 0.0024 - mae: 0.0450\n",
      "Epoch 17/100\n",
      "15/15 [==============================] - 11s 694ms/step - loss: 0.0024 - mae: 0.0449\n",
      "Epoch 18/100\n",
      "15/15 [==============================] - 11s 692ms/step - loss: 0.0024 - mae: 0.0458\n",
      "Epoch 19/100\n",
      "15/15 [==============================] - 13s 786ms/step - loss: 0.0025 - mae: 0.0483\n",
      "Epoch 20/100\n",
      "15/15 [==============================] - 18s 1s/step - loss: 0.0024 - mae: 0.0464\n",
      "Epoch 21/100\n",
      "15/15 [==============================] - 19s 1s/step - loss: 0.0023 - mae: 0.0441\n",
      "Epoch 22/100\n",
      "15/15 [==============================] - 14s 888ms/step - loss: 0.0024 - mae: 0.0462\n",
      "Epoch 23/100\n",
      "15/15 [==============================] - 7s 459ms/step - loss: 0.0023 - mae: 0.0448\n",
      "Epoch 24/100\n",
      "15/15 [==============================] - 8s 522ms/step - loss: 0.0024 - mae: 0.0454\n",
      "Epoch 25/100\n",
      "15/15 [==============================] - 7s 444ms/step - loss: 0.0024 - mae: 0.0467\n",
      "Epoch 26/100\n",
      "15/15 [==============================] - 6s 392ms/step - loss: 0.0022 - mae: 0.0436\n",
      "Epoch 27/100\n",
      "15/15 [==============================] - 6s 403ms/step - loss: 0.0022 - mae: 0.0434\n",
      "Epoch 28/100\n",
      "15/15 [==============================] - 7s 422ms/step - loss: 0.0022 - mae: 0.0427\n",
      "Epoch 29/100\n",
      "15/15 [==============================] - 7s 420ms/step - loss: 0.0022 - mae: 0.0431\n",
      "Epoch 30/100\n",
      "15/15 [==============================] - 7s 403ms/step - loss: 0.0023 - mae: 0.0444\n",
      "Epoch 31/100\n",
      "15/15 [==============================] - 7s 418ms/step - loss: 0.0023 - mae: 0.0460\n",
      "Epoch 32/100\n",
      "15/15 [==============================] - 7s 437ms/step - loss: 0.0022 - mae: 0.0435\n",
      "Epoch 33/100\n",
      "15/15 [==============================] - 7s 415ms/step - loss: 0.0021 - mae: 0.0422\n",
      "Epoch 34/100\n",
      "15/15 [==============================] - 7s 410ms/step - loss: 0.0023 - mae: 0.0450\n",
      "Epoch 35/100\n",
      "15/15 [==============================] - 7s 427ms/step - loss: 0.0021 - mae: 0.0424\n",
      "Epoch 36/100\n",
      "15/15 [==============================] - 7s 434ms/step - loss: 0.0022 - mae: 0.0430\n",
      "Epoch 37/100\n",
      "15/15 [==============================] - 7s 423ms/step - loss: 0.0021 - mae: 0.0423\n",
      "Epoch 38/100\n",
      "15/15 [==============================] - 6s 409ms/step - loss: 0.0022 - mae: 0.0437\n",
      "Epoch 39/100\n",
      "15/15 [==============================] - 7s 427ms/step - loss: 0.0023 - mae: 0.0445\n",
      "Epoch 40/100\n",
      "15/15 [==============================] - 7s 434ms/step - loss: 0.0023 - mae: 0.0442\n",
      "Epoch 41/100\n",
      "15/15 [==============================] - 7s 427ms/step - loss: 0.0021 - mae: 0.0418\n",
      "Epoch 42/100\n",
      "15/15 [==============================] - 7s 426ms/step - loss: 0.0021 - mae: 0.0423\n",
      "Epoch 43/100\n",
      "15/15 [==============================] - 7s 422ms/step - loss: 0.0021 - mae: 0.0415\n",
      "Epoch 44/100\n",
      "15/15 [==============================] - 7s 421ms/step - loss: 0.0021 - mae: 0.0418\n",
      "Epoch 45/100\n",
      "15/15 [==============================] - 7s 437ms/step - loss: 0.0021 - mae: 0.0422\n",
      "Epoch 46/100\n",
      "15/15 [==============================] - 7s 426ms/step - loss: 0.0022 - mae: 0.0437\n",
      "Epoch 47/100\n",
      "15/15 [==============================] - 7s 422ms/step - loss: 0.0021 - mae: 0.0416\n",
      "Epoch 48/100\n",
      "15/15 [==============================] - 7s 422ms/step - loss: 0.0020 - mae: 0.0406\n",
      "Epoch 49/100\n",
      "15/15 [==============================] - 7s 445ms/step - loss: 0.0020 - mae: 0.0408\n",
      "Epoch 50/100\n",
      "15/15 [==============================] - 7s 418ms/step - loss: 0.0020 - mae: 0.0406\n",
      "Epoch 51/100\n",
      "15/15 [==============================] - 7s 446ms/step - loss: 0.0020 - mae: 0.0407\n",
      "Epoch 52/100\n",
      "15/15 [==============================] - 7s 422ms/step - loss: 0.0020 - mae: 0.0410\n",
      "Epoch 53/100\n",
      "15/15 [==============================] - 7s 430ms/step - loss: 0.0021 - mae: 0.0413\n",
      "Epoch 54/100\n",
      "15/15 [==============================] - 7s 414ms/step - loss: 0.0022 - mae: 0.0429\n",
      "Epoch 55/100\n",
      "15/15 [==============================] - 6s 408ms/step - loss: 0.0021 - mae: 0.0412\n",
      "Epoch 56/100\n",
      "15/15 [==============================] - 6s 390ms/step - loss: 0.0020 - mae: 0.0412\n",
      "Epoch 57/100\n",
      "15/15 [==============================] - 7s 415ms/step - loss: 0.0020 - mae: 0.0406\n",
      "Epoch 58/100\n",
      "15/15 [==============================] - 7s 411ms/step - loss: 0.0020 - mae: 0.0405\n",
      "Epoch 59/100\n",
      "15/15 [==============================] - 6s 407ms/step - loss: 0.0020 - mae: 0.0406\n",
      "Epoch 60/100\n",
      "15/15 [==============================] - 6s 400ms/step - loss: 0.0020 - mae: 0.0411\n",
      "Epoch 61/100\n",
      "15/15 [==============================] - 7s 419ms/step - loss: 0.0020 - mae: 0.0404\n",
      "Epoch 62/100\n",
      "15/15 [==============================] - 7s 414ms/step - loss: 0.0020 - mae: 0.0400\n",
      "Epoch 63/100\n",
      "15/15 [==============================] - 6s 400ms/step - loss: 0.0020 - mae: 0.0404\n",
      "Epoch 64/100\n",
      "15/15 [==============================] - 6s 407ms/step - loss: 0.0020 - mae: 0.0402\n",
      "Epoch 65/100\n",
      "15/15 [==============================] - 7s 429ms/step - loss: 0.0020 - mae: 0.0398\n",
      "Epoch 66/100\n",
      "15/15 [==============================] - 8s 483ms/step - loss: 0.0020 - mae: 0.0397\n",
      "Epoch 67/100\n",
      "15/15 [==============================] - 7s 459ms/step - loss: 0.0019 - mae: 0.0395\n",
      "Epoch 68/100\n",
      "15/15 [==============================] - 7s 435ms/step - loss: 0.0019 - mae: 0.0397\n",
      "Epoch 69/100\n",
      "15/15 [==============================] - 7s 439ms/step - loss: 0.0019 - mae: 0.0395\n",
      "Epoch 70/100\n",
      "15/15 [==============================] - 7s 449ms/step - loss: 0.0020 - mae: 0.0405\n",
      "Epoch 71/100\n",
      "15/15 [==============================] - 7s 471ms/step - loss: 0.0020 - mae: 0.0403\n",
      "Epoch 72/100\n",
      "15/15 [==============================] - 7s 437ms/step - loss: 0.0020 - mae: 0.0407\n",
      "Epoch 73/100\n",
      "15/15 [==============================] - 7s 441ms/step - loss: 0.0019 - mae: 0.0396\n",
      "Epoch 74/100\n",
      "15/15 [==============================] - 7s 444ms/step - loss: 0.0019 - mae: 0.0389\n",
      "Epoch 75/100\n",
      "15/15 [==============================] - 7s 439ms/step - loss: 0.0019 - mae: 0.0395\n",
      "Epoch 76/100\n",
      "15/15 [==============================] - 7s 437ms/step - loss: 0.0019 - mae: 0.0388\n",
      "Epoch 77/100\n",
      "15/15 [==============================] - 7s 442ms/step - loss: 0.0020 - mae: 0.0398\n",
      "Epoch 78/100\n",
      "15/15 [==============================] - 7s 447ms/step - loss: 0.0019 - mae: 0.0387\n",
      "Epoch 79/100\n",
      "15/15 [==============================] - 7s 439ms/step - loss: 0.0019 - mae: 0.0393\n",
      "Epoch 80/100\n",
      "15/15 [==============================] - 7s 460ms/step - loss: 0.0019 - mae: 0.0385\n",
      "Epoch 81/100\n",
      "15/15 [==============================] - 7s 438ms/step - loss: 0.0019 - mae: 0.0386\n",
      "Epoch 82/100\n",
      "15/15 [==============================] - 7s 442ms/step - loss: 0.0019 - mae: 0.0384\n",
      "Epoch 83/100\n",
      "15/15 [==============================] - 7s 451ms/step - loss: 0.0020 - mae: 0.0403\n",
      "Epoch 84/100\n",
      "15/15 [==============================] - 7s 454ms/step - loss: 0.0019 - mae: 0.0386\n",
      "Epoch 85/100\n"
     ]
    },
    {
     "name": "stdout",
     "output_type": "stream",
     "text": [
      "15/15 [==============================] - 7s 430ms/step - loss: 0.0019 - mae: 0.0387\n",
      "Epoch 86/100\n",
      "15/15 [==============================] - 7s 452ms/step - loss: 0.0019 - mae: 0.0399\n",
      "Epoch 87/100\n",
      "15/15 [==============================] - 7s 439ms/step - loss: 0.0019 - mae: 0.0400\n",
      "Epoch 88/100\n",
      "15/15 [==============================] - 8s 508ms/step - loss: 0.0019 - mae: 0.0391\n",
      "Epoch 89/100\n",
      "15/15 [==============================] - 7s 478ms/step - loss: 0.0019 - mae: 0.0385\n",
      "Epoch 90/100\n",
      "15/15 [==============================] - 7s 455ms/step - loss: 0.0018 - mae: 0.0381\n",
      "Epoch 91/100\n",
      "15/15 [==============================] - 7s 428ms/step - loss: 0.0018 - mae: 0.0377\n",
      "Epoch 92/100\n",
      "15/15 [==============================] - 6s 410ms/step - loss: 0.0018 - mae: 0.0375\n",
      "Epoch 93/100\n",
      "15/15 [==============================] - 7s 425ms/step - loss: 0.0018 - mae: 0.0378\n",
      "Epoch 94/100\n",
      "15/15 [==============================] - 7s 419ms/step - loss: 0.0019 - mae: 0.0396\n",
      "Epoch 95/100\n",
      "15/15 [==============================] - 7s 413ms/step - loss: 0.0020 - mae: 0.0412\n",
      "Epoch 96/100\n",
      "15/15 [==============================] - 7s 433ms/step - loss: 0.0019 - mae: 0.0390\n",
      "Epoch 97/100\n",
      "15/15 [==============================] - 8s 542ms/step - loss: 0.0019 - mae: 0.0384\n",
      "Epoch 98/100\n",
      "15/15 [==============================] - 8s 473ms/step - loss: 0.0018 - mae: 0.0383\n",
      "Epoch 99/100\n",
      "15/15 [==============================] - 7s 444ms/step - loss: 0.0018 - mae: 0.0378\n",
      "Epoch 100/100\n",
      "15/15 [==============================] - 7s 423ms/step - loss: 0.0018 - mae: 0.0370\n"
     ]
    },
    {
     "data": {
      "text/plain": [
       "<keras.callbacks.History at 0x1b56f599490>"
      ]
     },
     "execution_count": 52,
     "metadata": {},
     "output_type": "execute_result"
    }
   ],
   "source": [
    "# clear session\n",
    "model.set_weights(init_weights)\n",
    "tf.keras.backend.clear_session()\n",
    "\n",
    "## set up the learning rate parameter\n",
    "\n",
    "#lr_schedule = tf.keras.callbacks.LearningRateScheduler(lambda epoch : 1e-2 * 10 ** (epoch/20))\n",
    "# set leraning rate\n",
    "learning_rate = 1e-1\n",
    "\n",
    "# compile the model\n",
    "model.compile(optimizer=tf.keras.optimizers.SGD(learning_rate=learning_rate, momentum=0.9),\n",
    "             loss=tf.keras.losses.Huber(),\n",
    "             metrics = ['mae'])\n",
    "\n",
    "# fit the model\n",
    "model.fit(train_dataset, epochs=100)"
   ]
  },
  {
   "cell_type": "code",
   "execution_count": 54,
   "id": "b3f9e188",
   "metadata": {},
   "outputs": [],
   "source": [
    "# plot loss and accuracy values \n",
    "def plot_metrics(df, num_epochs):\n",
    "\t\n",
    "\tepoch_range = range(num_epochs)\n",
    "\tplt.figure(figsize=(8,6))\n",
    "\tplt.plot(epoch_range, df['loss'], label = 'training_loss')\n",
    "\tplt.plot(epoch_range, df['mae'], label = 'mae')\n",
    "# \tplt.plot(epoch_range, df['accuracy'], label = 'training_accuracy')\n",
    "# \tplt.plot(epoch_range, df['val_accuracy'], label = 'validation_accuracy')\n",
    "\tplt.legend(loc='best')\n",
    "\tplt.show()"
   ]
  },
  {
   "cell_type": "code",
   "execution_count": 55,
   "id": "9dc14b06",
   "metadata": {},
   "outputs": [
    {
     "data": {
      "image/png": "[encoded data removed]",
      "text/plain": [
       "<Figure size 576x432 with 1 Axes>"
      ]
     },
     "metadata": {
      "needs_background": "light"
     },
     "output_type": "display_data"
    }
   ],
   "source": [
    "history = pd.DataFrame(model.history.history)\n",
    "plot_metrics(history, 100)"
   ]
  },
  {
   "cell_type": "markdown",
   "id": "0aee339b",
   "metadata": {},
   "source": [
    "### prepare validation data and predict"
   ]
  },
  {
   "cell_type": "code",
   "execution_count": 56,
   "id": "1ddb87c5",
   "metadata": {},
   "outputs": [],
   "source": [
    "# function to generate validation data and predict on it \n",
    "def prediction(model, series, batch_size, window_size):\n",
    "    \n",
    "    datasets = tf.data.Dataset.from_tensor_slices(series)\n",
    "    datasets = datasets.window(size=window_size, shift = 1, drop_remainder=True)\n",
    "    datasets = datasets.flat_map(lambda window: window.batch(window_size))\n",
    "    datasets = datasets.batch(batch_size=batch_size).prefetch(1)\n",
    "    \n",
    "    prediction = model.predict(datasets)\n",
    "    return prediction"
   ]
  },
  {
   "cell_type": "code",
   "execution_count": 58,
   "id": "4600762e",
   "metadata": {},
   "outputs": [
    {
     "name": "stdout",
     "output_type": "stream",
     "text": [
      "4/4 [==============================] - 2s 167ms/step\n",
      "(500,)\n"
     ]
    }
   ],
   "source": [
    "## generate forecast data\n",
    "\n",
    "forecast_data = input_data[split_time-WINDOW_SIZE:-1]\n",
    "predictions = prediction(model, forecast_data, BATCH_SIZE, WINDOW_SIZE)\n",
    "\n",
    "results = predictions.squeeze()\n",
    "print(results.shape)"
   ]
  },
  {
   "cell_type": "code",
   "execution_count": 65,
   "id": "ce9b60f0",
   "metadata": {},
   "outputs": [
    {
     "data": {
      "text/plain": [
       "(500,)"
      ]
     },
     "execution_count": 65,
     "metadata": {},
     "output_type": "execute_result"
    }
   ],
   "source": [
    "# get true results\n",
    "# these are the average price values that are in the 2nd column of every data item\n",
    "\n",
    "true_values = valid_series[:, 0]\n",
    "true_values.shape"
   ]
  },
  {
   "cell_type": "markdown",
   "id": "5edf6ea6",
   "metadata": {},
   "source": [
    "### Evaluation Metrics"
   ]
  },
  {
   "cell_type": "code",
   "execution_count": 66,
   "id": "0196240b",
   "metadata": {},
   "outputs": [
    {
     "name": "stdout",
     "output_type": "stream",
     "text": [
      "Mean Squared error :0.0027370948810130358\n",
      "Mean Absolute error :0.03796926885843277\n"
     ]
    }
   ],
   "source": [
    "print('Mean Squared error :{}'.format(tf.metrics.mean_squared_error(true_values, results)))\n",
    "print('Mean Absolute error :{}'.format(tf.metrics.mean_absolute_error(true_values, results)))"
   ]
  },
  {
   "cell_type": "code",
   "execution_count": 61,
   "id": "03358c70",
   "metadata": {},
   "outputs": [],
   "source": [
    "def plot_series(time, series, format=\"-\", start=0, end=None):\n",
    "    \"\"\"\n",
    "    Visualizes time series data\n",
    "\n",
    "    Args:\n",
    "      time (array of int) - contains the time steps\n",
    "      series (array of int) - contains the measurements for each time step\n",
    "      format - line style when plotting the graph\n",
    "      start - first time step to plot\n",
    "      end - last time step to plot\n",
    "    \"\"\"\n",
    "\n",
    "    # Setup dimensions of the graph figure\n",
    "    plt.figure(figsize=(10, 6))\n",
    "    \n",
    "    if type(series) is tuple:\n",
    "\n",
    "      for series_num in series:\n",
    "        # Plot the time series data\n",
    "        plt.plot(time[start:end], series_num[start:end], format)\n",
    "\n",
    "    else:\n",
    "      # Plot the time series data\n",
    "      plt.plot(time[start:end], series[start:end], format)\n",
    "\n",
    "    # Label the x-axis\n",
    "    plt.xlabel(\"Time\")\n",
    "\n",
    "    # Label the y-axis\n",
    "    plt.ylabel(\"Value\")\n",
    "\n",
    "    # Overlay a grid on the graph\n",
    "    plt.grid(True)\n",
    "\n",
    "    # Draw the graph on screen\n",
    "    plt.show()"
   ]
  },
  {
   "cell_type": "code",
   "execution_count": 67,
   "id": "a621dcd3",
   "metadata": {},
   "outputs": [
    {
     "data": {
      "image/png": "[encoded data removed]",
      "text/plain": [
       "<Figure size 720x432 with 1 Axes>"
      ]
     },
     "metadata": {
      "needs_background": "light"
     },
     "output_type": "display_data"
    }
   ],
   "source": [
    "plot_series(valid_time, (true_values, results))"
   ]
  },
  {
   "cell_type": "markdown",
   "id": "3521e379",
   "metadata": {},
   "source": [
    "## with Adam Optimizer"
   ]
  },
  {
   "cell_type": "code",
   "execution_count": 63,
   "id": "8b6abd76",
   "metadata": {},
   "outputs": [
    {
     "name": "stdout",
     "output_type": "stream",
     "text": [
      "Epoch 1/100\n",
      "15/15 [==============================] - 10s 356ms/step - loss: 0.0052 - mae: 0.0735\n",
      "Epoch 2/100\n",
      "15/15 [==============================] - 6s 361ms/step - loss: 0.0029 - mae: 0.0528\n",
      "Epoch 3/100\n",
      "15/15 [==============================] - 6s 370ms/step - loss: 0.0024 - mae: 0.0461\n",
      "Epoch 4/100\n",
      "15/15 [==============================] - 7s 417ms/step - loss: 0.0022 - mae: 0.0433\n",
      "Epoch 5/100\n",
      "15/15 [==============================] - 8s 512ms/step - loss: 0.0021 - mae: 0.0411\n",
      "Epoch 6/100\n",
      "15/15 [==============================] - 7s 459ms/step - loss: 0.0020 - mae: 0.0401\n",
      "Epoch 7/100\n",
      "15/15 [==============================] - 7s 410ms/step - loss: 0.0019 - mae: 0.0391\n",
      "Epoch 8/100\n",
      "15/15 [==============================] - 7s 443ms/step - loss: 0.0019 - mae: 0.0380\n",
      "Epoch 9/100\n",
      "15/15 [==============================] - 7s 427ms/step - loss: 0.0018 - mae: 0.0367\n",
      "Epoch 10/100\n",
      "15/15 [==============================] - 6s 400ms/step - loss: 0.0017 - mae: 0.0355\n",
      "Epoch 11/100\n",
      "15/15 [==============================] - 6s 384ms/step - loss: 0.0016 - mae: 0.0345\n",
      "Epoch 12/100\n",
      "15/15 [==============================] - 6s 407ms/step - loss: 0.0016 - mae: 0.0342\n",
      "Epoch 13/100\n",
      "15/15 [==============================] - 6s 389ms/step - loss: 0.0016 - mae: 0.0340\n",
      "Epoch 14/100\n",
      "15/15 [==============================] - 6s 392ms/step - loss: 0.0015 - mae: 0.0329\n",
      "Epoch 15/100\n",
      "15/15 [==============================] - 6s 409ms/step - loss: 0.0015 - mae: 0.0324\n",
      "Epoch 16/100\n",
      "15/15 [==============================] - 6s 404ms/step - loss: 0.0014 - mae: 0.0313\n",
      "Epoch 17/100\n",
      "15/15 [==============================] - 6s 395ms/step - loss: 0.0014 - mae: 0.0307\n",
      "Epoch 18/100\n",
      "15/15 [==============================] - 7s 455ms/step - loss: 0.0014 - mae: 0.0299\n",
      "Epoch 19/100\n",
      "15/15 [==============================] - 7s 426ms/step - loss: 0.0013 - mae: 0.0294\n",
      "Epoch 20/100\n",
      "15/15 [==============================] - 6s 400ms/step - loss: 0.0013 - mae: 0.0286\n",
      "Epoch 21/100\n",
      "15/15 [==============================] - 6s 390ms/step - loss: 0.0013 - mae: 0.0289\n",
      "Epoch 22/100\n",
      "15/15 [==============================] - 7s 408ms/step - loss: 0.0013 - mae: 0.0298\n",
      "Epoch 23/100\n",
      "15/15 [==============================] - 7s 419ms/step - loss: 0.0012 - mae: 0.0279\n",
      "Epoch 24/100\n",
      "15/15 [==============================] - 6s 393ms/step - loss: 0.0013 - mae: 0.0283\n",
      "Epoch 25/100\n",
      "15/15 [==============================] - 7s 420ms/step - loss: 0.0012 - mae: 0.0266\n",
      "Epoch 26/100\n",
      "15/15 [==============================] - 6s 399ms/step - loss: 0.0012 - mae: 0.0263\n",
      "Epoch 27/100\n",
      "15/15 [==============================] - 7s 456ms/step - loss: 0.0011 - mae: 0.0261\n",
      "Epoch 28/100\n",
      "15/15 [==============================] - 7s 439ms/step - loss: 0.0011 - mae: 0.0253\n",
      "Epoch 29/100\n",
      "15/15 [==============================] - 6s 402ms/step - loss: 0.0011 - mae: 0.0255\n",
      "Epoch 30/100\n",
      "15/15 [==============================] - 7s 410ms/step - loss: 0.0011 - mae: 0.0252\n",
      "Epoch 31/100\n",
      "15/15 [==============================] - 6s 388ms/step - loss: 0.0011 - mae: 0.0246\n",
      "Epoch 32/100\n",
      "15/15 [==============================] - 7s 412ms/step - loss: 0.0011 - mae: 0.0252\n",
      "Epoch 33/100\n",
      "15/15 [==============================] - 6s 396ms/step - loss: 0.0011 - mae: 0.0250\n",
      "Epoch 34/100\n",
      "15/15 [==============================] - 6s 408ms/step - loss: 0.0011 - mae: 0.0243\n",
      "Epoch 35/100\n",
      "15/15 [==============================] - 6s 403ms/step - loss: 0.0011 - mae: 0.0241\n",
      "Epoch 36/100\n",
      "15/15 [==============================] - 6s 396ms/step - loss: 0.0010 - mae: 0.0234\n",
      "Epoch 37/100\n",
      "15/15 [==============================] - 7s 424ms/step - loss: 0.0010 - mae: 0.0225\n",
      "Epoch 38/100\n",
      "15/15 [==============================] - 7s 425ms/step - loss: 0.0011 - mae: 0.0243\n",
      "Epoch 39/100\n",
      "15/15 [==============================] - 6s 404ms/step - loss: 0.0011 - mae: 0.0242\n",
      "Epoch 40/100\n",
      "15/15 [==============================] - 6s 395ms/step - loss: 0.0011 - mae: 0.0240\n",
      "Epoch 41/100\n",
      "15/15 [==============================] - 6s 408ms/step - loss: 0.0010 - mae: 0.0232\n",
      "Epoch 42/100\n",
      "15/15 [==============================] - 7s 422ms/step - loss: 9.9652e-04 - mae: 0.0214\n",
      "Epoch 43/100\n",
      "15/15 [==============================] - 6s 401ms/step - loss: 0.0010 - mae: 0.0229\n",
      "Epoch 44/100\n",
      "15/15 [==============================] - 6s 405ms/step - loss: 0.0010 - mae: 0.0231\n",
      "Epoch 45/100\n",
      "15/15 [==============================] - 6s 385ms/step - loss: 0.0010 - mae: 0.0228\n",
      "Epoch 46/100\n",
      "15/15 [==============================] - 6s 400ms/step - loss: 0.0010 - mae: 0.0228\n",
      "Epoch 47/100\n",
      "15/15 [==============================] - 6s 404ms/step - loss: 0.0010 - mae: 0.0232\n",
      "Epoch 48/100\n",
      "15/15 [==============================] - 7s 429ms/step - loss: 0.0010 - mae: 0.0223\n",
      "Epoch 49/100\n",
      "15/15 [==============================] - 7s 423ms/step - loss: 9.8004e-04 - mae: 0.0220\n",
      "Epoch 50/100\n",
      "15/15 [==============================] - 7s 427ms/step - loss: 9.6604e-04 - mae: 0.0209\n",
      "Epoch 51/100\n",
      "15/15 [==============================] - 7s 437ms/step - loss: 9.7895e-04 - mae: 0.0212\n",
      "Epoch 52/100\n",
      "15/15 [==============================] - 7s 438ms/step - loss: 9.9116e-04 - mae: 0.0222\n",
      "Epoch 53/100\n",
      "15/15 [==============================] - 7s 428ms/step - loss: 9.5822e-04 - mae: 0.0206\n",
      "Epoch 54/100\n",
      "15/15 [==============================] - 7s 418ms/step - loss: 9.4449e-04 - mae: 0.0202\n",
      "Epoch 55/100\n",
      "15/15 [==============================] - 7s 473ms/step - loss: 9.3075e-04 - mae: 0.0205\n",
      "Epoch 56/100\n",
      "15/15 [==============================] - 7s 442ms/step - loss: 9.6709e-04 - mae: 0.0210\n",
      "Epoch 57/100\n",
      "15/15 [==============================] - 7s 439ms/step - loss: 9.6507e-04 - mae: 0.0221\n",
      "Epoch 58/100\n",
      "15/15 [==============================] - 7s 439ms/step - loss: 9.4704e-04 - mae: 0.0210\n",
      "Epoch 59/100\n",
      "15/15 [==============================] - 7s 431ms/step - loss: 9.1807e-04 - mae: 0.0199\n",
      "Epoch 60/100\n",
      "15/15 [==============================] - 7s 425ms/step - loss: 9.0518e-04 - mae: 0.0197\n",
      "Epoch 61/100\n",
      "15/15 [==============================] - 7s 434ms/step - loss: 9.1349e-04 - mae: 0.0199\n",
      "Epoch 62/100\n",
      "15/15 [==============================] - 7s 410ms/step - loss: 9.5763e-04 - mae: 0.0214\n",
      "Epoch 63/100\n",
      "15/15 [==============================] - 7s 421ms/step - loss: 9.4461e-04 - mae: 0.0210\n",
      "Epoch 64/100\n",
      "15/15 [==============================] - 6s 405ms/step - loss: 8.9690e-04 - mae: 0.0201\n",
      "Epoch 65/100\n",
      "15/15 [==============================] - 6s 396ms/step - loss: 8.7881e-04 - mae: 0.0192\n",
      "Epoch 66/100\n",
      "15/15 [==============================] - 7s 409ms/step - loss: 9.1357e-04 - mae: 0.0202\n",
      "Epoch 67/100\n",
      "15/15 [==============================] - 7s 418ms/step - loss: 8.9261e-04 - mae: 0.0201\n",
      "Epoch 68/100\n",
      "15/15 [==============================] - 6s 404ms/step - loss: 8.6388e-04 - mae: 0.0194\n",
      "Epoch 69/100\n",
      "15/15 [==============================] - 7s 438ms/step - loss: 8.9701e-04 - mae: 0.0209\n",
      "Epoch 70/100\n",
      "15/15 [==============================] - 7s 418ms/step - loss: 9.5619e-04 - mae: 0.0214\n",
      "Epoch 71/100\n",
      "15/15 [==============================] - 7s 419ms/step - loss: 9.0584e-04 - mae: 0.0203\n",
      "Epoch 72/100\n",
      "15/15 [==============================] - 7s 416ms/step - loss: 8.9322e-04 - mae: 0.0198\n",
      "Epoch 73/100\n",
      "15/15 [==============================] - 6s 394ms/step - loss: 8.5964e-04 - mae: 0.0187\n",
      "Epoch 74/100\n",
      "15/15 [==============================] - 7s 411ms/step - loss: 8.7781e-04 - mae: 0.0194\n",
      "Epoch 75/100\n",
      "15/15 [==============================] - 7s 413ms/step - loss: 8.8269e-04 - mae: 0.0206\n",
      "Epoch 76/100\n",
      "15/15 [==============================] - 6s 404ms/step - loss: 8.9103e-04 - mae: 0.0199\n",
      "Epoch 77/100\n",
      "15/15 [==============================] - 7s 428ms/step - loss: 8.5176e-04 - mae: 0.0190\n",
      "Epoch 78/100\n",
      "15/15 [==============================] - 7s 408ms/step - loss: 8.3885e-04 - mae: 0.0185\n",
      "Epoch 79/100\n",
      "15/15 [==============================] - 6s 399ms/step - loss: 8.8200e-04 - mae: 0.0210\n",
      "Epoch 80/100\n",
      "15/15 [==============================] - 7s 418ms/step - loss: 8.5988e-04 - mae: 0.0202\n",
      "Epoch 81/100\n",
      "15/15 [==============================] - 6s 398ms/step - loss: 8.3506e-04 - mae: 0.0188\n",
      "Epoch 82/100\n",
      "15/15 [==============================] - 7s 440ms/step - loss: 8.4651e-04 - mae: 0.0193\n",
      "Epoch 83/100\n",
      "15/15 [==============================] - 7s 437ms/step - loss: 8.2538e-04 - mae: 0.0194\n",
      "Epoch 84/100\n"
     ]
    },
    {
     "name": "stdout",
     "output_type": "stream",
     "text": [
      "15/15 [==============================] - 8s 489ms/step - loss: 8.5945e-04 - mae: 0.0200\n",
      "Epoch 85/100\n",
      "15/15 [==============================] - 7s 457ms/step - loss: 8.1782e-04 - mae: 0.0186\n",
      "Epoch 86/100\n",
      "15/15 [==============================] - 8s 483ms/step - loss: 8.2137e-04 - mae: 0.0200\n",
      "Epoch 87/100\n",
      "15/15 [==============================] - 7s 470ms/step - loss: 8.2741e-04 - mae: 0.0195\n",
      "Epoch 88/100\n",
      "15/15 [==============================] - 7s 467ms/step - loss: 7.8575e-04 - mae: 0.0190\n",
      "Epoch 89/100\n",
      "15/15 [==============================] - 7s 410ms/step - loss: 7.9194e-04 - mae: 0.0197\n",
      "Epoch 90/100\n",
      "15/15 [==============================] - 7s 411ms/step - loss: 8.2745e-04 - mae: 0.0183\n",
      "Epoch 91/100\n",
      "15/15 [==============================] - 7s 435ms/step - loss: 7.7308e-04 - mae: 0.0180\n",
      "Epoch 92/100\n",
      "15/15 [==============================] - 6s 407ms/step - loss: 7.4773e-04 - mae: 0.0181\n",
      "Epoch 93/100\n",
      "15/15 [==============================] - 6s 404ms/step - loss: 7.3270e-04 - mae: 0.0182\n",
      "Epoch 94/100\n",
      "15/15 [==============================] - 6s 401ms/step - loss: 7.5801e-04 - mae: 0.0183\n",
      "Epoch 95/100\n",
      "15/15 [==============================] - 7s 412ms/step - loss: 7.3645e-04 - mae: 0.0182\n",
      "Epoch 96/100\n",
      "15/15 [==============================] - 7s 468ms/step - loss: 7.3059e-04 - mae: 0.0184\n",
      "Epoch 97/100\n",
      "15/15 [==============================] - 7s 437ms/step - loss: 6.9670e-04 - mae: 0.0178\n",
      "Epoch 98/100\n",
      "15/15 [==============================] - 7s 427ms/step - loss: 7.2944e-04 - mae: 0.0190\n",
      "Epoch 99/100\n",
      "15/15 [==============================] - 7s 474ms/step - loss: 6.9589e-04 - mae: 0.0183\n",
      "Epoch 100/100\n",
      "15/15 [==============================] - 7s 454ms/step - loss: 7.1359e-04 - mae: 0.0186\n"
     ]
    },
    {
     "data": {
      "text/plain": [
       "<keras.callbacks.History at 0x1b50650d220>"
      ]
     },
     "execution_count": 63,
     "metadata": {},
     "output_type": "execute_result"
    }
   ],
   "source": [
    "model_adam = tf.keras.models.Sequential([\n",
    "    \n",
    "    tf.keras.layers.Lambda(lambda x:tf.expand_dims(x, axis = 0),  input_shape = [None, 2]),\n",
    "    tf.keras.layers.LSTM(64, return_sequences=True ,input_shape = (WINDOW_SIZE, 7)),\n",
    "    tf.keras.layers.LSTM(64, return_sequences=True),\n",
    "    tf.keras.layers.LSTM(64),\n",
    "    tf.keras.layers.Dense(1)\n",
    "])\n",
    "\n",
    "model_adam.compile(optimizer='adam',\n",
    "                  loss=tf.keras.losses.Huber(),\n",
    "                  metrics=['mae'])\n",
    "\n",
    "model_adam.fit(train_dataset, epochs=num_epochs)"
   ]
  },
  {
   "cell_type": "code",
   "execution_count": 64,
   "id": "1be73a20",
   "metadata": {},
   "outputs": [
    {
     "data": {
      "image/png": "[encoded data removed]",
      "text/plain": [
       "<Figure size 576x432 with 1 Axes>"
      ]
     },
     "metadata": {
      "needs_background": "light"
     },
     "output_type": "display_data"
    }
   ],
   "source": [
    "history = pd.DataFrame(model_adam.history.history)\n",
    "plot_metrics(history, 100)"
   ]
  },
  {
   "cell_type": "code",
   "execution_count": 68,
   "id": "b9dcfced",
   "metadata": {},
   "outputs": [
    {
     "name": "stdout",
     "output_type": "stream",
     "text": [
      "4/4 [==============================] - 2s 160ms/step\n",
      "(500,)\n"
     ]
    }
   ],
   "source": [
    "## generate forecast data\n",
    "\n",
    "forecast_data = input_data[split_time-WINDOW_SIZE:-1]\n",
    "predictions = prediction(model_adam, forecast_data, BATCH_SIZE, WINDOW_SIZE)\n",
    "\n",
    "results = predictions.squeeze()\n",
    "print(results.shape)"
   ]
  },
  {
   "cell_type": "markdown",
   "id": "54a878b9",
   "metadata": {},
   "source": [
    "## Evaluation Metrics"
   ]
  },
  {
   "cell_type": "code",
   "execution_count": 69,
   "id": "40932bf0",
   "metadata": {},
   "outputs": [
    {
     "name": "stdout",
     "output_type": "stream",
     "text": [
      "Mean Squared error :0.0017461057286709547\n",
      "Mean Absolute error :0.028325585648417473\n"
     ]
    }
   ],
   "source": [
    "print('Mean Squared error :{}'.format(tf.metrics.mean_squared_error(true_values, results)))\n",
    "print('Mean Absolute error :{}'.format(tf.metrics.mean_absolute_error(true_values, results)))"
   ]
  },
  {
   "cell_type": "code",
   "execution_count": 70,
   "id": "9be6b8cd",
   "metadata": {},
   "outputs": [
    {
     "data": {
      "image/png": "[encoded data removed]",
      "text/plain": [
       "<Figure size 720x432 with 1 Axes>"
      ]
     },
     "metadata": {
      "needs_background": "light"
     },
     "output_type": "display_data"
    }
   ],
   "source": [
    "plot_series(valid_time, (true_values, results))"
   ]
  },
  {
   "cell_type": "markdown",
   "id": "71c7f712",
   "metadata": {},
   "source": [
    "### With CNN and additional Dense"
   ]
  },
  {
   "cell_type": "code",
   "execution_count": 76,
   "id": "8a5682af",
   "metadata": {},
   "outputs": [
    {
     "name": "stdout",
     "output_type": "stream",
     "text": [
      "Model: \"sequential_2\"\n",
      "_________________________________________________________________\n",
      " Layer (type)                Output Shape              Param #   \n",
      "=================================================================\n",
      " conv1d_1 (Conv1D)           (None, 96, 64)            1408      \n",
      "                                                                 \n",
      " lstm_5 (LSTM)               (None, 96, 64)            33024     \n",
      "                                                                 \n",
      " lstm_6 (LSTM)               (None, 64)                33024     \n",
      "                                                                 \n",
      " dense_4 (Dense)             (None, 48)                3120      \n",
      "                                                                 \n",
      " dense_5 (Dense)             (None, 24)                1176      \n",
      "                                                                 \n",
      " dense_6 (Dense)             (None, 1)                 25        \n",
      "                                                                 \n",
      "=================================================================\n",
      "Total params: 71,777\n",
      "Trainable params: 71,777\n",
      "Non-trainable params: 0\n",
      "_________________________________________________________________\n"
     ]
    }
   ],
   "source": [
    "model_adam_2 = tf.keras.models.Sequential([\n",
    "    \n",
    "    #tf.keras.layers.Lambda(lambda x:tf.expand_dims(x, axis = 0),  input_shape = [None, 2]),\n",
    "    tf.keras.layers.Conv1D(64, 3, strides=1, padding='causal', activation='relu', input_shape= ([WINDOW_SIZE, 7])),\n",
    "    tf.keras.layers.LSTM(64, return_sequences=True), #, input_shape = (WINDOW_SIZE, 7)),\n",
    "    #tf.keras.layers.LSTM(64, return_sequences=True),\n",
    "    tf.keras.layers.LSTM(64),\n",
    "    tf.keras.layers.Dense(48, activation='relu'),\n",
    "    tf.keras.layers.Dense(24, activation='relu'),\n",
    "    tf.keras.layers.Dense(1)\n",
    "])\n",
    "\n",
    "model_adam_2.summary()"
   ]
  },
  {
   "cell_type": "code",
   "execution_count": 77,
   "id": "0dc564ec",
   "metadata": {},
   "outputs": [
    {
     "name": "stdout",
     "output_type": "stream",
     "text": [
      "Epoch 1/100\n",
      "15/15 [==============================] - 8s 258ms/step - loss: 0.0034 - mae: 0.0563\n",
      "Epoch 2/100\n",
      "15/15 [==============================] - 4s 252ms/step - loss: 0.0022 - mae: 0.0430\n",
      "Epoch 3/100\n",
      "15/15 [==============================] - 4s 273ms/step - loss: 0.0019 - mae: 0.0385\n",
      "Epoch 4/100\n",
      "15/15 [==============================] - 4s 270ms/step - loss: 0.0018 - mae: 0.0369\n",
      "Epoch 5/100\n",
      "15/15 [==============================] - 5s 301ms/step - loss: 0.0018 - mae: 0.0367\n",
      "Epoch 6/100\n",
      "15/15 [==============================] - 5s 278ms/step - loss: 0.0015 - mae: 0.0325\n",
      "Epoch 7/100\n",
      "15/15 [==============================] - 5s 284ms/step - loss: 0.0014 - mae: 0.0305\n",
      "Epoch 8/100\n",
      "15/15 [==============================] - 5s 291ms/step - loss: 0.0013 - mae: 0.0288\n",
      "Epoch 9/100\n",
      "15/15 [==============================] - 5s 294ms/step - loss: 0.0012 - mae: 0.0277\n",
      "Epoch 10/100\n",
      "15/15 [==============================] - 5s 302ms/step - loss: 0.0011 - mae: 0.0263\n",
      "Epoch 11/100\n",
      "15/15 [==============================] - 5s 290ms/step - loss: 0.0012 - mae: 0.0265\n",
      "Epoch 12/100\n",
      "15/15 [==============================] - 5s 286ms/step - loss: 0.0011 - mae: 0.0262\n",
      "Epoch 13/100\n",
      "15/15 [==============================] - 5s 285ms/step - loss: 0.0010 - mae: 0.0239\n",
      "Epoch 14/100\n",
      "15/15 [==============================] - 5s 293ms/step - loss: 0.0010 - mae: 0.0244\n",
      "Epoch 15/100\n",
      "15/15 [==============================] - 5s 287ms/step - loss: 0.0010 - mae: 0.0238\n",
      "Epoch 16/100\n",
      "15/15 [==============================] - 5s 279ms/step - loss: 0.0011 - mae: 0.0273\n",
      "Epoch 17/100\n",
      "15/15 [==============================] - 5s 279ms/step - loss: 0.0011 - mae: 0.0258\n",
      "Epoch 18/100\n",
      "15/15 [==============================] - 5s 293ms/step - loss: 0.0010 - mae: 0.0246\n",
      "Epoch 19/100\n",
      "15/15 [==============================] - 5s 312ms/step - loss: 9.4984e-04 - mae: 0.0231\n",
      "Epoch 20/100\n",
      "15/15 [==============================] - 5s 289ms/step - loss: 9.3312e-04 - mae: 0.0221\n",
      "Epoch 21/100\n",
      "15/15 [==============================] - 5s 295ms/step - loss: 8.9018e-04 - mae: 0.0210\n",
      "Epoch 22/100\n",
      "15/15 [==============================] - 5s 290ms/step - loss: 8.8803e-04 - mae: 0.0209\n",
      "Epoch 23/100\n",
      "15/15 [==============================] - 5s 297ms/step - loss: 8.8526e-04 - mae: 0.0211\n",
      "Epoch 24/100\n",
      "15/15 [==============================] - 5s 276ms/step - loss: 8.4967e-04 - mae: 0.0201\n",
      "Epoch 25/100\n",
      "15/15 [==============================] - 4s 276ms/step - loss: 8.7793e-04 - mae: 0.0215\n",
      "Epoch 26/100\n",
      "15/15 [==============================] - 5s 278ms/step - loss: 8.5433e-04 - mae: 0.0203\n",
      "Epoch 27/100\n",
      "15/15 [==============================] - 5s 287ms/step - loss: 8.7381e-04 - mae: 0.0206\n",
      "Epoch 28/100\n",
      "15/15 [==============================] - 5s 276ms/step - loss: 8.6847e-04 - mae: 0.0212\n",
      "Epoch 29/100\n",
      "15/15 [==============================] - 4s 277ms/step - loss: 8.9053e-04 - mae: 0.0215\n",
      "Epoch 30/100\n",
      "15/15 [==============================] - 4s 275ms/step - loss: 8.5417e-04 - mae: 0.0201\n",
      "Epoch 31/100\n",
      "15/15 [==============================] - 5s 278ms/step - loss: 8.0835e-04 - mae: 0.0188\n",
      "Epoch 32/100\n",
      "15/15 [==============================] - 4s 272ms/step - loss: 8.0265e-04 - mae: 0.0188\n",
      "Epoch 33/100\n",
      "15/15 [==============================] - 5s 297ms/step - loss: 7.9106e-04 - mae: 0.0194\n",
      "Epoch 34/100\n",
      "15/15 [==============================] - 4s 270ms/step - loss: 7.8548e-04 - mae: 0.0184\n",
      "Epoch 35/100\n",
      "15/15 [==============================] - 4s 271ms/step - loss: 7.7340e-04 - mae: 0.0186\n",
      "Epoch 36/100\n",
      "15/15 [==============================] - 4s 277ms/step - loss: 8.0459e-04 - mae: 0.0195\n",
      "Epoch 37/100\n",
      "15/15 [==============================] - 5s 279ms/step - loss: 8.0685e-04 - mae: 0.0201\n",
      "Epoch 38/100\n",
      "15/15 [==============================] - 5s 286ms/step - loss: 8.1903e-04 - mae: 0.0207\n",
      "Epoch 39/100\n",
      "15/15 [==============================] - 5s 278ms/step - loss: 7.7080e-04 - mae: 0.0191\n",
      "Epoch 40/100\n",
      "15/15 [==============================] - 5s 284ms/step - loss: 7.5150e-04 - mae: 0.0179\n",
      "Epoch 41/100\n",
      "15/15 [==============================] - 4s 274ms/step - loss: 7.4177e-04 - mae: 0.0179\n",
      "Epoch 42/100\n",
      "15/15 [==============================] - 5s 288ms/step - loss: 7.5576e-04 - mae: 0.0184\n",
      "Epoch 43/100\n",
      "15/15 [==============================] - 5s 288ms/step - loss: 7.4832e-04 - mae: 0.0186\n",
      "Epoch 44/100\n",
      "15/15 [==============================] - 5s 295ms/step - loss: 7.0937e-04 - mae: 0.0171\n",
      "Epoch 45/100\n",
      "15/15 [==============================] - 5s 284ms/step - loss: 7.0176e-04 - mae: 0.0171\n",
      "Epoch 46/100\n",
      "15/15 [==============================] - 5s 287ms/step - loss: 7.2375e-04 - mae: 0.0175\n",
      "Epoch 47/100\n",
      "15/15 [==============================] - 5s 310ms/step - loss: 7.3190e-04 - mae: 0.0182\n",
      "Epoch 48/100\n",
      "15/15 [==============================] - 5s 288ms/step - loss: 6.9729e-04 - mae: 0.0172\n",
      "Epoch 49/100\n",
      "15/15 [==============================] - 5s 291ms/step - loss: 6.8335e-04 - mae: 0.0165\n",
      "Epoch 50/100\n",
      "15/15 [==============================] - 5s 335ms/step - loss: 7.1313e-04 - mae: 0.0181\n",
      "Epoch 51/100\n",
      "15/15 [==============================] - 5s 311ms/step - loss: 6.9593e-04 - mae: 0.0179\n",
      "Epoch 52/100\n",
      "15/15 [==============================] - 5s 283ms/step - loss: 6.7282e-04 - mae: 0.0167\n",
      "Epoch 53/100\n",
      "15/15 [==============================] - 5s 298ms/step - loss: 6.6433e-04 - mae: 0.0170\n",
      "Epoch 54/100\n",
      "15/15 [==============================] - 5s 313ms/step - loss: 6.6053e-04 - mae: 0.0167\n",
      "Epoch 55/100\n",
      "15/15 [==============================] - 5s 305ms/step - loss: 6.6846e-04 - mae: 0.0178\n",
      "Epoch 56/100\n",
      "15/15 [==============================] - 5s 302ms/step - loss: 7.1373e-04 - mae: 0.0195\n",
      "Epoch 57/100\n",
      "15/15 [==============================] - 5s 309ms/step - loss: 6.4993e-04 - mae: 0.0175\n",
      "Epoch 58/100\n",
      "15/15 [==============================] - 5s 307ms/step - loss: 6.5481e-04 - mae: 0.0176\n",
      "Epoch 59/100\n",
      "15/15 [==============================] - 5s 301ms/step - loss: 6.8261e-04 - mae: 0.0181\n",
      "Epoch 60/100\n",
      "15/15 [==============================] - 6s 345ms/step - loss: 6.4986e-04 - mae: 0.0178\n",
      "Epoch 61/100\n",
      "15/15 [==============================] - 5s 330ms/step - loss: 6.9166e-04 - mae: 0.0180\n",
      "Epoch 62/100\n",
      "15/15 [==============================] - 5s 309ms/step - loss: 6.5125e-04 - mae: 0.0181\n",
      "Epoch 63/100\n",
      "15/15 [==============================] - 5s 327ms/step - loss: 7.0931e-04 - mae: 0.0199\n",
      "Epoch 64/100\n",
      "15/15 [==============================] - 5s 308ms/step - loss: 6.5900e-04 - mae: 0.0187\n",
      "Epoch 65/100\n",
      "15/15 [==============================] - 5s 324ms/step - loss: 6.5582e-04 - mae: 0.0183\n",
      "Epoch 66/100\n",
      "15/15 [==============================] - 5s 298ms/step - loss: 6.5158e-04 - mae: 0.0187\n",
      "Epoch 67/100\n",
      "15/15 [==============================] - 6s 340ms/step - loss: 6.5857e-04 - mae: 0.0178\n",
      "Epoch 68/100\n",
      "15/15 [==============================] - 5s 321ms/step - loss: 6.1436e-04 - mae: 0.0168\n",
      "Epoch 69/100\n",
      "15/15 [==============================] - 5s 329ms/step - loss: 6.0143e-04 - mae: 0.0165\n",
      "Epoch 70/100\n",
      "15/15 [==============================] - 5s 302ms/step - loss: 5.9585e-04 - mae: 0.0173\n",
      "Epoch 71/100\n",
      "15/15 [==============================] - 5s 304ms/step - loss: 5.6812e-04 - mae: 0.0165\n",
      "Epoch 72/100\n",
      "15/15 [==============================] - 5s 287ms/step - loss: 5.6561e-04 - mae: 0.0172\n",
      "Epoch 73/100\n",
      "15/15 [==============================] - 5s 315ms/step - loss: 5.7801e-04 - mae: 0.0180\n",
      "Epoch 74/100\n",
      "15/15 [==============================] - 5s 302ms/step - loss: 6.0049e-04 - mae: 0.0182\n",
      "Epoch 75/100\n",
      "15/15 [==============================] - 5s 301ms/step - loss: 5.5846e-04 - mae: 0.0178\n",
      "Epoch 76/100\n",
      "15/15 [==============================] - 5s 313ms/step - loss: 5.6336e-04 - mae: 0.0175\n",
      "Epoch 77/100\n",
      "15/15 [==============================] - 5s 315ms/step - loss: 5.1175e-04 - mae: 0.0164\n",
      "Epoch 78/100\n",
      "15/15 [==============================] - 5s 318ms/step - loss: 5.0242e-04 - mae: 0.0163\n",
      "Epoch 79/100\n",
      "15/15 [==============================] - 5s 335ms/step - loss: 4.5690e-04 - mae: 0.0158\n",
      "Epoch 80/100\n",
      "15/15 [==============================] - 5s 307ms/step - loss: 4.7724e-04 - mae: 0.0166\n",
      "Epoch 81/100\n",
      "15/15 [==============================] - 5s 315ms/step - loss: 4.5821e-04 - mae: 0.0161\n",
      "Epoch 82/100\n"
     ]
    },
    {
     "name": "stdout",
     "output_type": "stream",
     "text": [
      "15/15 [==============================] - 5s 312ms/step - loss: 4.4981e-04 - mae: 0.0166\n",
      "Epoch 83/100\n",
      "15/15 [==============================] - 5s 305ms/step - loss: 4.6591e-04 - mae: 0.0163\n",
      "Epoch 84/100\n",
      "15/15 [==============================] - 5s 312ms/step - loss: 4.3618e-04 - mae: 0.0162\n",
      "Epoch 85/100\n",
      "15/15 [==============================] - 5s 323ms/step - loss: 4.3076e-04 - mae: 0.0162\n",
      "Epoch 86/100\n",
      "15/15 [==============================] - 6s 348ms/step - loss: 4.5169e-04 - mae: 0.0169\n",
      "Epoch 87/100\n",
      "15/15 [==============================] - 6s 332ms/step - loss: 4.4998e-04 - mae: 0.0169\n",
      "Epoch 88/100\n",
      "15/15 [==============================] - 6s 364ms/step - loss: 4.3040e-04 - mae: 0.0166\n",
      "Epoch 89/100\n",
      "15/15 [==============================] - 5s 315ms/step - loss: 4.3129e-04 - mae: 0.0163\n",
      "Epoch 90/100\n",
      "15/15 [==============================] - 5s 318ms/step - loss: 4.2432e-04 - mae: 0.0164\n",
      "Epoch 91/100\n",
      "15/15 [==============================] - 5s 334ms/step - loss: 4.1420e-04 - mae: 0.0150\n",
      "Epoch 92/100\n",
      "15/15 [==============================] - 5s 298ms/step - loss: 4.1151e-04 - mae: 0.0153\n",
      "Epoch 93/100\n",
      "15/15 [==============================] - 5s 306ms/step - loss: 3.9264e-04 - mae: 0.0144\n",
      "Epoch 94/100\n",
      "15/15 [==============================] - 5s 318ms/step - loss: 3.9599e-04 - mae: 0.0153\n",
      "Epoch 95/100\n",
      "15/15 [==============================] - 5s 313ms/step - loss: 4.2814e-04 - mae: 0.0157\n",
      "Epoch 96/100\n",
      "15/15 [==============================] - 5s 313ms/step - loss: 4.1634e-04 - mae: 0.0168\n",
      "Epoch 97/100\n",
      "15/15 [==============================] - 5s 308ms/step - loss: 4.0223e-04 - mae: 0.0160\n",
      "Epoch 98/100\n",
      "15/15 [==============================] - 5s 298ms/step - loss: 3.6457e-04 - mae: 0.0149\n",
      "Epoch 99/100\n",
      "15/15 [==============================] - 5s 317ms/step - loss: 4.3354e-04 - mae: 0.0152\n",
      "Epoch 100/100\n",
      "15/15 [==============================] - 4s 233ms/step - loss: 3.8075e-04 - mae: 0.0147\n"
     ]
    },
    {
     "data": {
      "text/plain": [
       "<keras.callbacks.History at 0x1b50a2f9820>"
      ]
     },
     "execution_count": 77,
     "metadata": {},
     "output_type": "execute_result"
    }
   ],
   "source": [
    "# compile and fit the model\n",
    "model_adam_2.compile(optimizer='adam',\n",
    "                  loss=tf.keras.losses.Huber(),\n",
    "                  metrics=['mae'])\n",
    "\n",
    "model_adam_2.fit(train_dataset, epochs=num_epochs)"
   ]
  },
  {
   "cell_type": "code",
   "execution_count": 78,
   "id": "3e04b9af",
   "metadata": {},
   "outputs": [
    {
     "data": {
      "image/png": "[encoded data removed]",
      "text/plain": [
       "<Figure size 576x432 with 1 Axes>"
      ]
     },
     "metadata": {
      "needs_background": "light"
     },
     "output_type": "display_data"
    }
   ],
   "source": [
    "history = pd.DataFrame(model_adam_2.history.history)\n",
    "plot_metrics(history, 100)"
   ]
  },
  {
   "cell_type": "code",
   "execution_count": 79,
   "id": "1455fc15",
   "metadata": {},
   "outputs": [
    {
     "name": "stdout",
     "output_type": "stream",
     "text": [
      "4/4 [==============================] - 1s 96ms/step\n",
      "(500,)\n"
     ]
    }
   ],
   "source": [
    "## generate forecast data\n",
    "\n",
    "forecast_data = input_data[split_time-WINDOW_SIZE:-1]\n",
    "predictions = prediction(model_adam_2, forecast_data, BATCH_SIZE, WINDOW_SIZE)\n",
    "\n",
    "results = predictions.squeeze()\n",
    "print(results.shape)"
   ]
  },
  {
   "cell_type": "markdown",
   "id": "c67a93d6",
   "metadata": {},
   "source": [
    "## Evaluation Metrics"
   ]
  },
  {
   "cell_type": "code",
   "execution_count": 80,
   "id": "c1b760ab",
   "metadata": {},
   "outputs": [
    {
     "name": "stdout",
     "output_type": "stream",
     "text": [
      "Mean Squared error :0.0015316862845793366\n",
      "Mean Absolute error :0.026401840150356293\n"
     ]
    }
   ],
   "source": [
    "print('Mean Squared error :{}'.format(tf.metrics.mean_squared_error(true_values, results)))\n",
    "print('Mean Absolute error :{}'.format(tf.metrics.mean_absolute_error(true_values, results)))"
   ]
  },
  {
   "cell_type": "code",
   "execution_count": 81,
   "id": "1a0afb21",
   "metadata": {},
   "outputs": [
    {
     "data": {
      "image/png": "[encoded data removed]",
      "text/plain": [
       "<Figure size 720x432 with 1 Axes>"
      ]
     },
     "metadata": {
      "needs_background": "light"
     },
     "output_type": "display_data"
    }
   ],
   "source": [
    "plot_series(valid_time, (true_values, results))"
   ]
  },
  {
   "cell_type": "code",
   "execution_count": null,
   "id": "b1f45818",
   "metadata": {},
   "outputs": [],
   "source": []
  }
 ],
 "metadata": {
  "kernelspec": {
   "display_name": "Python 3 (ipykernel)",
   "language": "python",
   "name": "python3"
  },
  "language_info": {
   "codemirror_mode": {
    "name": "ipython",
    "version": 3
   },
   "file_extension": ".py",
   "mimetype": "text/x-python",
   "name": "python",
   "nbconvert_exporter": "python",
   "pygments_lexer": "ipython3",
   "version": "3.9.5"
  }
 },
 "nbformat": 4,
 "nbformat_minor": 5
}
