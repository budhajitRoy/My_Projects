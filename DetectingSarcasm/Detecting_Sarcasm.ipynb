{
 "cells": [
  {
   "cell_type": "markdown",
   "id": "a1c1ca68",
   "metadata": {},
   "source": [
    "## Detecting Sarcasm\n",
    "- [Data Source](https://www.kaggle.com/datasets/rmisra/news-headlines-dataset-for-sarcasm-detection)"
   ]
  },
  {
   "cell_type": "code",
   "execution_count": 1,
   "id": "ef958235",
   "metadata": {},
   "outputs": [],
   "source": [
    "data_path = 'sarcasm_dataset/Sarcasm_Headlines_Dataset.json'"
   ]
  },
  {
   "cell_type": "code",
   "execution_count": 2,
   "id": "f372457b",
   "metadata": {},
   "outputs": [
    {
     "name": "stdout",
     "output_type": "stream",
     "text": [
      "{\"article_link\": \"https://www.huffingtonpost.com/entry/versace-black-code_us_5861fbefe4b0de3a08f600d5\", \"headline\": \"former versace store clerk sues over secret 'black code' for minority shoppers\", \"is_sarcastic\": 0}\n",
      "\n"
     ]
    }
   ],
   "source": [
    "# lets try to read the first line and check the format and structure of the data\n",
    "\n",
    "with open(data_path, 'r') as f:\n",
    "    text = f.readline()\n",
    "    print(text)"
   ]
  },
  {
   "cell_type": "markdown",
   "id": "351028d6",
   "metadata": {},
   "source": [
    "- So, each line contains three items\n",
    "- article_link : URl for the article\n",
    "- headline: headline for the article and\n",
    "- is_sarcastic : an integer value (1 or 0) indicating if the article is sarcastic or not"
   ]
  },
  {
   "cell_type": "code",
   "execution_count": 3,
   "id": "c47ae958",
   "metadata": {},
   "outputs": [],
   "source": [
    "## creating a list to store these texts\n",
    "\n",
    "text_list = []\n",
    "\n",
    "with open(data_path, 'r') as file:\n",
    "    for line in file:\n",
    "        text_list.append(line.rstrip())"
   ]
  },
  {
   "cell_type": "code",
   "execution_count": 4,
   "id": "d1d0e138",
   "metadata": {},
   "outputs": [
    {
     "data": {
      "text/plain": [
       "['{\"article_link\": \"https://www.huffingtonpost.com/entry/versace-black-code_us_5861fbefe4b0de3a08f600d5\", \"headline\": \"former versace store clerk sues over secret \\'black code\\' for minority shoppers\", \"is_sarcastic\": 0}',\n",
       " '{\"article_link\": \"https://www.huffingtonpost.com/entry/roseanne-revival-review_us_5ab3a497e4b054d118e04365\", \"headline\": \"the \\'roseanne\\' revival catches up to our thorny political mood, for better and worse\", \"is_sarcastic\": 0}',\n",
       " '{\"article_link\": \"https://local.theonion.com/mom-starting-to-fear-son-s-web-series-closest-thing-she-1819576697\", \"headline\": \"mom starting to fear son\\'s web series closest thing she will have to grandchild\", \"is_sarcastic\": 1}']"
      ]
     },
     "execution_count": 4,
     "metadata": {},
     "output_type": "execute_result"
    }
   ],
   "source": [
    "# print the first 3 lines\n",
    "\n",
    "text_list[:3]"
   ]
  },
  {
   "cell_type": "markdown",
   "id": "ddb2a811",
   "metadata": {},
   "source": [
    "# Accessing individual item elements"
   ]
  },
  {
   "cell_type": "code",
   "execution_count": 5,
   "id": "65b60728",
   "metadata": {},
   "outputs": [],
   "source": [
    "import json"
   ]
  },
  {
   "cell_type": "code",
   "execution_count": 6,
   "id": "4ce58533",
   "metadata": {},
   "outputs": [],
   "source": [
    "sample_text  = json.loads(text_list[0])"
   ]
  },
  {
   "cell_type": "code",
   "execution_count": 7,
   "id": "2e1ccc83",
   "metadata": {},
   "outputs": [
    {
     "data": {
      "text/plain": [
       "{'article_link': 'https://www.huffingtonpost.com/entry/versace-black-code_us_5861fbefe4b0de3a08f600d5',\n",
       " 'headline': \"former versace store clerk sues over secret 'black code' for minority shoppers\",\n",
       " 'is_sarcastic': 0}"
      ]
     },
     "execution_count": 7,
     "metadata": {},
     "output_type": "execute_result"
    }
   ],
   "source": [
    "sample_text"
   ]
  },
  {
   "cell_type": "code",
   "execution_count": 19,
   "id": "25c9849d",
   "metadata": {},
   "outputs": [
    {
     "data": {
      "text/plain": [
       "'https://www.huffingtonpost.com/entry/versace-black-code_us_5861fbefe4b0de3a08f600d5'"
      ]
     },
     "execution_count": 19,
     "metadata": {},
     "output_type": "execute_result"
    }
   ],
   "source": [
    "# accessing the article link\n",
    "sample_text['article_link']"
   ]
  },
  {
   "cell_type": "markdown",
   "id": "5af30e58",
   "metadata": {},
   "source": [
    "### Store the article components"
   ]
  },
  {
   "cell_type": "code",
   "execution_count": 8,
   "id": "5f239555",
   "metadata": {},
   "outputs": [],
   "source": [
    "## parsing through the text_list and add the components into respective list\n",
    "\n",
    "labels = [] # to store is is_sarcastic or not\n",
    "urls = []  # to store article_link\n",
    "sentences = []  # to store headlines\n",
    "\n",
    "# parse through each line and store the components\n",
    "\n",
    "for line in text_list:\n",
    "    text = json.loads(line)\n",
    "    sentences.append(text['headline'])\n",
    "    labels.append(text['is_sarcastic'])\n",
    "    urls.append(text['article_link'])"
   ]
  },
  {
   "cell_type": "code",
   "execution_count": 9,
   "id": "86654449",
   "metadata": {},
   "outputs": [
    {
     "name": "stdout",
     "output_type": "stream",
     "text": [
      "['https://www.huffingtonpost.com/entry/versace-black-code_us_5861fbefe4b0de3a08f600d5', 'https://www.huffingtonpost.com/entry/roseanne-revival-review_us_5ab3a497e4b054d118e04365', 'https://local.theonion.com/mom-starting-to-fear-son-s-web-series-closest-thing-she-1819576697']\n",
      "[\"former versace store clerk sues over secret 'black code' for minority shoppers\", \"the 'roseanne' revival catches up to our thorny political mood, for better and worse\", \"mom starting to fear son's web series closest thing she will have to grandchild\"]\n",
      "[0, 0, 1]\n"
     ]
    }
   ],
   "source": [
    "# check the values\n",
    "print(urls[:3])\n",
    "print(sentences[:3])\n",
    "print(labels[:3])"
   ]
  },
  {
   "cell_type": "code",
   "execution_count": 11,
   "id": "7702506c",
   "metadata": {},
   "outputs": [
    {
     "data": {
      "text/plain": [
       "26709"
      ]
     },
     "execution_count": 11,
     "metadata": {},
     "output_type": "execute_result"
    }
   ],
   "source": [
    "# check the length of all the articles\n",
    "\n",
    "len(sentences)"
   ]
  },
  {
   "cell_type": "markdown",
   "id": "29b351e6",
   "metadata": {},
   "source": [
    "## Create Tokens using these headlines"
   ]
  },
  {
   "cell_type": "code",
   "execution_count": 13,
   "id": "99bd87cf",
   "metadata": {},
   "outputs": [],
   "source": [
    "from tensorflow.keras.preprocessing.text import Tokenizer\n",
    "from tensorflow.keras.preprocessing.sequence import pad_sequences\n",
    "import numpy as np"
   ]
  },
  {
   "cell_type": "code",
   "execution_count": 93,
   "id": "56c62942",
   "metadata": {},
   "outputs": [],
   "source": [
    "## set up the parameter values\n",
    "\n",
    "vocabs_size = 2000\n",
    "oov_token = '<OOV>'\n",
    "embedding_dim = 16\n",
    "trunc_type ='post'\n",
    "padding_type ='post'\n",
    "max_len = 80\n",
    "training_size = 20000 # will use 20000 for training and the rest for validation"
   ]
  },
  {
   "cell_type": "code",
   "execution_count": 94,
   "id": "6b567dc6",
   "metadata": {},
   "outputs": [],
   "source": [
    "## set up the training and validation data\n",
    "\n",
    "train_sentences = sentences[:training_size]\n",
    "validation_sentences = sentences[training_size:]\n",
    "\n",
    "train_labels = labels[:training_size]\n",
    "test_labels = labels[training_size:]\n",
    "\n",
    "# convert the labels into numpy array\n",
    "train_labels = np.array(train_labels)\n",
    "test_labels = np.array(test_labels)"
   ]
  },
  {
   "cell_type": "code",
   "execution_count": 95,
   "id": "1ce0c1cd",
   "metadata": {},
   "outputs": [],
   "source": [
    "# set up the tokenizer and pad sequences\n",
    "\n",
    "# instantiate the tokenizer\n",
    "tokenizer = Tokenizer(num_words=vocabs_size, lower=True, oov_token='<OOV>')\n",
    "\n",
    "# fit on the sentence\n",
    "tokenizer.fit_on_texts(train_sentences)\n",
    "\n",
    "# get word_index\n",
    "word_index = tokenizer.word_index\n",
    "\n",
    "# get sequences\n",
    "train_sequences = tokenizer.texts_to_sequences(train_sentences)\n",
    "validation_sequences = tokenizer.texts_to_sequences(validation_sentences)\n",
    "\n",
    "# get padded \n",
    "train_padded = pad_sequences(train_sequences, maxlen=max_len, padding=padding_type, truncating=trunc_type)\n",
    "test_padded = pad_sequences(validation_sequences, maxlen=max_len, padding=padding_type, truncating=trunc_type)"
   ]
  },
  {
   "cell_type": "markdown",
   "id": "d96dace6",
   "metadata": {},
   "source": [
    "## Create the Model"
   ]
  },
  {
   "cell_type": "code",
   "execution_count": 56,
   "id": "d49865dc",
   "metadata": {},
   "outputs": [],
   "source": [
    "import tensorflow as tf"
   ]
  },
  {
   "cell_type": "code",
   "execution_count": 96,
   "id": "dad32dd3",
   "metadata": {},
   "outputs": [],
   "source": [
    "model = tf.keras.models.Sequential([\n",
    "    \n",
    "    tf.keras.layers.Embedding(vocabs_size, embedding_dim, input_length=max_len),\n",
    "    tf.keras.layers.GlobalAveragePooling1D(),\n",
    "    \n",
    "    tf.keras.layers.Dense(8, activation='relu'),\n",
    "    tf.keras.layers.Dense(1, activation='sigmoid')  \n",
    "])\n",
    "\n",
    "# compile\n",
    "model.compile(optimizer='adam',\n",
    "             loss='binary_crossentropy',\n",
    "             metrics=['accuracy'])"
   ]
  },
  {
   "cell_type": "code",
   "execution_count": 97,
   "id": "1c19dc7c",
   "metadata": {},
   "outputs": [
    {
     "name": "stdout",
     "output_type": "stream",
     "text": [
      "Model: \"sequential_10\"\n",
      "_________________________________________________________________\n",
      " Layer (type)                Output Shape              Param #   \n",
      "=================================================================\n",
      " embedding_10 (Embedding)    (None, 80, 16)            32000     \n",
      "                                                                 \n",
      " global_average_pooling1d_10  (None, 16)               0         \n",
      "  (GlobalAveragePooling1D)                                       \n",
      "                                                                 \n",
      " dense_20 (Dense)            (None, 8)                 136       \n",
      "                                                                 \n",
      " dense_21 (Dense)            (None, 1)                 9         \n",
      "                                                                 \n",
      "=================================================================\n",
      "Total params: 32,145\n",
      "Trainable params: 32,145\n",
      "Non-trainable params: 0\n",
      "_________________________________________________________________\n"
     ]
    }
   ],
   "source": [
    "model.summary()"
   ]
  },
  {
   "cell_type": "code",
   "execution_count": 98,
   "id": "5b083404",
   "metadata": {},
   "outputs": [
    {
     "name": "stdout",
     "output_type": "stream",
     "text": [
      "Epoch 1/15\n",
      "625/625 [==============================] - 2s 2ms/step - loss: 0.6674 - accuracy: 0.5887 - val_loss: 0.6103 - val_accuracy: 0.7008\n",
      "Epoch 2/15\n",
      "625/625 [==============================] - 1s 2ms/step - loss: 0.5049 - accuracy: 0.7911 - val_loss: 0.4430 - val_accuracy: 0.8086\n",
      "Epoch 3/15\n",
      "625/625 [==============================] - 1s 2ms/step - loss: 0.3926 - accuracy: 0.8328 - val_loss: 0.3948 - val_accuracy: 0.8250\n",
      "Epoch 4/15\n",
      "625/625 [==============================] - 1s 2ms/step - loss: 0.3567 - accuracy: 0.8443 - val_loss: 0.3818 - val_accuracy: 0.8265\n",
      "Epoch 5/15\n",
      "625/625 [==============================] - 1s 2ms/step - loss: 0.3361 - accuracy: 0.8537 - val_loss: 0.3715 - val_accuracy: 0.8338\n",
      "Epoch 6/15\n",
      "625/625 [==============================] - 1s 2ms/step - loss: 0.3231 - accuracy: 0.8599 - val_loss: 0.3692 - val_accuracy: 0.8305\n",
      "Epoch 7/15\n",
      "625/625 [==============================] - 1s 2ms/step - loss: 0.3135 - accuracy: 0.8649 - val_loss: 0.3713 - val_accuracy: 0.8344\n",
      "Epoch 8/15\n",
      "625/625 [==============================] - 1s 2ms/step - loss: 0.3069 - accuracy: 0.8680 - val_loss: 0.3692 - val_accuracy: 0.8289\n",
      "Epoch 9/15\n",
      "625/625 [==============================] - 1s 2ms/step - loss: 0.3011 - accuracy: 0.8694 - val_loss: 0.3717 - val_accuracy: 0.8316\n",
      "Epoch 10/15\n",
      "625/625 [==============================] - 1s 2ms/step - loss: 0.2980 - accuracy: 0.8698 - val_loss: 0.3732 - val_accuracy: 0.8301\n",
      "Epoch 11/15\n",
      "625/625 [==============================] - 1s 2ms/step - loss: 0.2957 - accuracy: 0.8716 - val_loss: 0.3770 - val_accuracy: 0.8269\n",
      "Epoch 12/15\n",
      "625/625 [==============================] - 1s 2ms/step - loss: 0.2928 - accuracy: 0.8722 - val_loss: 0.3778 - val_accuracy: 0.8284\n",
      "Epoch 13/15\n",
      "625/625 [==============================] - 1s 2ms/step - loss: 0.2893 - accuracy: 0.8726 - val_loss: 0.3819 - val_accuracy: 0.8287\n",
      "Epoch 14/15\n",
      "625/625 [==============================] - 1s 2ms/step - loss: 0.2879 - accuracy: 0.8749 - val_loss: 0.3847 - val_accuracy: 0.8262\n",
      "Epoch 15/15\n",
      "625/625 [==============================] - 1s 2ms/step - loss: 0.2871 - accuracy: 0.8751 - val_loss: 0.3851 - val_accuracy: 0.8283\n"
     ]
    },
    {
     "data": {
      "text/plain": [
       "<keras.callbacks.History at 0x1f075c1d100>"
      ]
     },
     "execution_count": 98,
     "metadata": {},
     "output_type": "execute_result"
    }
   ],
   "source": [
    "# fit the model\n",
    "num_epochs = 15\n",
    "\n",
    "model.fit(train_padded,\n",
    "          train_labels,\n",
    "          epochs=num_epochs,\n",
    "          validation_data=(test_padded, test_labels)\n",
    "         )"
   ]
  },
  {
   "cell_type": "markdown",
   "id": "fd6ae2d8",
   "metadata": {},
   "source": [
    "## Model evaluation"
   ]
  },
  {
   "cell_type": "code",
   "execution_count": 99,
   "id": "e3a5c392",
   "metadata": {},
   "outputs": [
    {
     "data": {
      "text/plain": [
       "<matplotlib.legend.Legend at 0x1f0011a0f10>"
      ]
     },
     "execution_count": 99,
     "metadata": {},
     "output_type": "execute_result"
    },
    {
     "data": {
      "image/png": "[encoded data removed]",
      "text/plain": [
       "<Figure size 864x360 with 2 Axes>"
      ]
     },
     "metadata": {
      "needs_background": "light"
     },
     "output_type": "display_data"
    }
   ],
   "source": [
    "import pandas as pd\n",
    "# plot\n",
    "import matplotlib.pyplot as plt\n",
    "\n",
    "metrics = pd.DataFrame(model.history.history)\n",
    "\n",
    "epochs_range = range(1, num_epochs + 1)\n",
    "\n",
    "plt.figure(figsize=(12, 5))\n",
    "\n",
    "plt.subplot(1,2,1)\n",
    "plt.plot(epochs_range, metrics['accuracy'], label = 'training accuracy')\n",
    "plt.plot(epochs_range, metrics['val_accuracy'], label = 'validation accuracy')\n",
    "plt.legend(loc='best')\n",
    "\n",
    "plt.subplot(1,2,2)\n",
    "plt.plot(epochs_range, metrics['loss'], label = 'training loss')\n",
    "plt.plot(epochs_range, metrics['val_loss'], label = 'validation loss')\n",
    "plt.legend(loc='best')"
   ]
  },
  {
   "cell_type": "markdown",
   "id": "a000d382",
   "metadata": {},
   "source": [
    "### Visualize Word Embeddings\n",
    "\n",
    "After training, we can visualize the trained weights in the `Embedding` layer to see words that are clustered together. The [Tensorflow Embedding Projector](https://projector.tensorflow.org/) is able to reduce the 16-dimension vectors we defined earlier into fewer components so it can be plotted in the projector. First, we will need to get these weights."
   ]
  },
  {
   "cell_type": "code",
   "execution_count": 100,
   "id": "315ae7b5",
   "metadata": {},
   "outputs": [
    {
     "name": "stdout",
     "output_type": "stream",
     "text": [
      "<class 'numpy.ndarray'>\n"
     ]
    }
   ],
   "source": [
    "# get the embedding layer from the model\n",
    "\n",
    "embedding_layer = model.layers[0]\n",
    "\n",
    "# now get the weights of this layer\n",
    "embedding_weights = embedding_layer.get_weights()[0]\n",
    "\n",
    "print(type(embedding_weights))"
   ]
  },
  {
   "cell_type": "code",
   "execution_count": 101,
   "id": "5f967daf",
   "metadata": {},
   "outputs": [
    {
     "data": {
      "text/plain": [
       "array([ 0.0534263 ,  0.03714428, -0.24847117, -0.03261249, -0.04658416,\n",
       "        0.03341867,  0.02795085,  0.00153025,  0.02048072, -0.2071168 ,\n",
       "       -0.5769428 , -0.17954025, -0.03059975, -0.11868373, -0.5717815 ,\n",
       "        0.033468  ], dtype=float32)"
      ]
     },
     "execution_count": 101,
     "metadata": {},
     "output_type": "execute_result"
    }
   ],
   "source": [
    "embedding_weights[0]"
   ]
  },
  {
   "cell_type": "markdown",
   "id": "480a0bb2",
   "metadata": {},
   "source": [
    "Now we will need to generate two files:\n",
    "\n",
    "* `vecs.tsv` - contains the vector weights of each word in the vocabulary\n",
    "* `meta.tsv` - contains the words in the vocabularym"
   ]
  },
  {
   "cell_type": "code",
   "execution_count": 102,
   "id": "d473abe7",
   "metadata": {},
   "outputs": [],
   "source": [
    "# first lets get the index_word so that we can parse through\n",
    "\n",
    "index_word = tokenizer.index_word"
   ]
  },
  {
   "cell_type": "code",
   "execution_count": 104,
   "id": "929beff8",
   "metadata": {},
   "outputs": [],
   "source": [
    "# lets write the vocab words and its associated weights vector into two different files\n",
    "import io\n",
    "\n",
    "# open the writeable files for vector weights and vocabs \n",
    "out_v = io.open('vecs_tsv.tsv', 'w',encoding='utf-8')\n",
    "out_m = io.open('meta_tsv.tsv', 'w', encoding='utf-8')\n",
    "\n",
    "# Initialize the loop. Start counting at `1` because `0` is just for the padding\n",
    "for word_num in range(1, vocabs_size):\n",
    "\n",
    "  # Get the word associated at the current index\n",
    "  word_name = index_word[word_num]\n",
    "\n",
    "  # Get the embedding weights associated with the current index\n",
    "  word_embedding = embedding_weights[word_num]\n",
    "\n",
    "  # Write the word name\n",
    "  out_m.write(word_name + \"\\n\")\n",
    "\n",
    "  # Write the word embedding\n",
    "  out_v.write('\\t'.join([str(x) for x in word_embedding]) + \"\\n\")\n",
    "\n",
    "# Close the files\n",
    "out_v.close()\n",
    "out_m.close()"
   ]
  },
  {
   "cell_type": "markdown",
   "id": "9e1ddf71",
   "metadata": {},
   "source": [
    "<img src=\"Projector_sarcasm.jpg\" width=1000 height=1200 />"
   ]
  },
  {
   "cell_type": "code",
   "execution_count": 111,
   "id": "af2c0204",
   "metadata": {},
   "outputs": [
    {
     "name": "stdout",
     "output_type": "stream",
     "text": [
      "shape of sample_array = (1, 3, 2)\n",
      "sample array: [[[10  2]\n",
      "  [ 1  3]\n",
      "  [ 1  1]]]\n",
      "output shape of gap1d_layer: (1, 2)\n",
      "output array of gap1d_layer: [[4 2]]\n"
     ]
    }
   ],
   "source": [
    "import tensorflow as tf\n",
    "\n",
    "# Initialize a GlobalAveragePooling1D (GAP1D) layer\n",
    "gap1d_layer = tf.keras.layers.GlobalAveragePooling1D()\n",
    "\n",
    "# Define sample array\n",
    "sample_array = np.array([[[10,2],[1,3],[1,1]]])\n",
    "\n",
    "# Print shape and contents of sample array\n",
    "print(f'shape of sample_array = {sample_array.shape}')\n",
    "print(f'sample array: {sample_array}')\n",
    "\n",
    "# Pass the sample array to the GAP1D layer\n",
    "output = gap1d_layer(sample_array)\n",
    "\n",
    "# Print shape and contents of the GAP1D output array\n",
    "print(f'output shape of gap1d_layer: {output.shape}')\n",
    "print(f'output array of gap1d_layer: {output.numpy()}')"
   ]
  },
  {
   "cell_type": "markdown",
   "id": "66546ef2",
   "metadata": {},
   "source": [
    "The architecture is similar to the previous lab but you will use a GlobalAveragePooling1D layer instead of Flatten after the Embedding. This adds the task of averaging over the sequence dimension before connecting to the dense layers. See a short demo of how this works using the snippet below. Notice that it gets the average over 3 arrays (i.e. (10 + 1 + 1) / 3 and (2 + 3 + 1) / 3 to arrive at the final output."
   ]
  }
 ],
 "metadata": {
  "kernelspec": {
   "display_name": "Python 3 (ipykernel)",
   "language": "python",
   "name": "python3"
  },
  "language_info": {
   "codemirror_mode": {
    "name": "ipython",
    "version": 3
   },
   "file_extension": ".py",
   "mimetype": "text/x-python",
   "name": "python",
   "nbconvert_exporter": "python",
   "pygments_lexer": "ipython3",
   "version": "3.9.5"
  }
 },
 "nbformat": 4,
 "nbformat_minor": 5
}
